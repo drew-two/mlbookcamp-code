{
  "cells": [
    {
      "cell_type": "markdown",
      "metadata": {
        "id": "-JrenrSGmAeg"
      },
      "source": [
        "**HOMEWORK**  \n",
        "\n",
        "The goal of this homework is to create a regression model for predicting housing prices (column 'median_house_value').  \n",
        "\n",
        "In this homework we'll again use the California Housing Prices dataset - the same one we used in homework 2 and 3.\n",
        "\n",
        "You can take it from [Kaggle](https://www.kaggle.com/datasets/camnugent/california-housing-prices) or download using wget link mentioned below:\n",
        "\n",
        "```\n",
        "wget https://raw.githubusercontent.com/alexeygrigorev/datasets/master/housing.csv\n",
        "\n",
        "```\n",
        "\n"
      ]
    },
    {
      "cell_type": "code",
      "execution_count": 1,
      "metadata": {
        "id": "nLosiCNJUjDM"
      },
      "outputs": [],
      "source": [
        "#@ IMPORTING LIBRARIES AND DEPENDENCIES:\n",
        "import re\n",
        "import numpy as np\n",
        "import pandas as pd\n",
        "import seaborn as sns\n",
        "import xgboost as xgb\n",
        "import matplotlib.pyplot as plt\n",
        "from tqdm.auto import tqdm\n",
        "from sklearn.tree import DecisionTreeRegressor\n",
        "from sklearn.tree import export_text\n",
        "from sklearn.feature_extraction import DictVectorizer\n",
        "from sklearn.model_selection import train_test_split\n",
        "from sklearn.ensemble import RandomForestRegressor\n",
        "from sklearn.metrics import mean_squared_error\n",
        "\n",
        "%matplotlib inline"
      ]
    },
    {
      "cell_type": "code",
      "execution_count": 2,
      "metadata": {
        "id": "4Psk224nnyIF"
      },
      "outputs": [],
      "source": [
        "#@ DOWNLOADING THE DATASET: UNCOMMENT BELOW:\n",
        "# !wget https://raw.githubusercontent.com/alexeygrigorev/datasets/master/housing.csv"
      ]
    },
    {
      "cell_type": "code",
      "execution_count": 3,
      "metadata": {
        "id": "492Hn6-3n08G"
      },
      "outputs": [],
      "source": [
        "#@ READING DATASET:\n",
        "PATH = \"./housing.csv\"\n",
        "select_cols = [\"longitude\", \"latitude\", \"housing_median_age\", \"total_rooms\", \"total_bedrooms\", \"population\", \"households\", \n",
        "               \"median_income\", \"median_house_value\", \"ocean_proximity\"]\n",
        "df = pd.read_csv(PATH, usecols=select_cols)\n",
        "df.total_bedrooms = df.total_bedrooms.fillna(0)"
      ]
    },
    {
      "cell_type": "markdown",
      "metadata": {
        "id": "OqXppJ_Ro0H0"
      },
      "source": [
        "- Apply the log transform to `median_house_value`. \n",
        "- Do train/validation/test split with 60%/20%/20% distribution.\n",
        "- Use the `train_test_split` function and set the `random_state parameter` to 1."
      ]
    },
    {
      "cell_type": "code",
      "execution_count": 4,
      "metadata": {
        "id": "W1MmdcRDpHS1"
      },
      "outputs": [],
      "source": [
        "#@ SPLITTING THE DATASET FOR TRAINING AND TEST:\n",
        "df['median_house_value'] = np.log1p(df.median_house_value)\n",
        "\n",
        "df_train_full, df_test = train_test_split(df, test_size=0.2, random_state=1)\n",
        "df_train, df_val = train_test_split(df_train_full, test_size=0.25, random_state=1)\n",
        "\n",
        "df_train = df_train.reset_index(drop=True)\n",
        "df_val = df_val.reset_index(drop=True)\n",
        "df_test = df_test.reset_index(drop=True)\n",
        "\n",
        "y_train = df_train.median_house_value.values\n",
        "y_val = df_val.median_house_value.values\n",
        "y_test = df_test.median_house_value.values\n",
        "\n",
        "del df_train['median_house_value']\n",
        "del df_val['median_house_value']\n",
        "del df_test['median_house_value']"
      ]
    },
    {
      "cell_type": "markdown",
      "metadata": {
        "id": "5VKq8FX7qIVM"
      },
      "source": [
        "- We will use `DictVectorizer` to turn train and validation into matrices."
      ]
    },
    {
      "cell_type": "code",
      "execution_count": 5,
      "metadata": {
        "id": "WnfFrWe9qtuc"
      },
      "outputs": [],
      "source": [
        "#@ IMPLEMENTATION OF DICTVECTORIZER:\n",
        "dv = DictVectorizer(sparse=False)\n",
        "X_train = dv.fit_transform(df_train.to_dict(orient='records'))\n",
        "X_val = dv.fit_transform(df_val.to_dict(orient='records'))"
      ]
    },
    {
      "cell_type": "markdown",
      "metadata": {
        "id": "qvxmhaD5hmAK"
      },
      "source": [
        "**Question 1**\n",
        "\n",
        "Let's train a decision tree regressor to predict the `median_house_value` variable.\n",
        "\n",
        "Train a model with `max_depth=1`."
      ]
    },
    {
      "cell_type": "code",
      "execution_count": 6,
      "metadata": {
        "id": "cqBcSbpIq7kJ"
      },
      "outputs": [
        {
          "data": {
            "text/plain": [
              "DecisionTreeRegressor(max_depth=1)"
            ]
          },
          "execution_count": 6,
          "metadata": {},
          "output_type": "execute_result"
        }
      ],
      "source": [
        "#@ TRAINING THE REGRESSION MODEL:\n",
        "dt = DecisionTreeRegressor(max_depth=1)\n",
        "dt.fit(X_train, y_train)"
      ]
    },
    {
      "cell_type": "code",
      "execution_count": 7,
      "metadata": {
        "id": "sLAnqRwuikqQ"
      },
      "outputs": [
        {
          "name": "stdout",
          "output_type": "stream",
          "text": [
            "|--- ocean_proximity=INLAND <= 0.50\n",
            "|   |--- value: [12.31]\n",
            "|--- ocean_proximity=INLAND >  0.50\n",
            "|   |--- value: [11.61]\n",
            "\n"
          ]
        },
        {
          "name": "stderr",
          "output_type": "stream",
          "text": [
            "/home/andre/anaconda3/envs/exp-tracking-env/lib/python3.9/site-packages/sklearn/utils/deprecation.py:87: FutureWarning: Function get_feature_names is deprecated; get_feature_names is deprecated in 1.0 and will be removed in 1.2. Please use get_feature_names_out instead.\n",
            "  warnings.warn(msg, category=FutureWarning)\n"
          ]
        }
      ],
      "source": [
        "#@ INSPECTION:\n",
        "print(export_text(dt, feature_names=dv.get_feature_names()))"
      ]
    },
    {
      "cell_type": "markdown",
      "metadata": {
        "id": "JNBm-qeRp6aZ"
      },
      "source": [
        "- Which feature is used for splitting the data?\n",
        "\n",
        "- Answer: ocean_proximity=INLAND"
      ]
    },
    {
      "cell_type": "markdown",
      "metadata": {
        "id": "Xhnbdy-CqQoB"
      },
      "source": [
        "**Question 2**\n",
        "\n",
        "Train a random forest model with these parameters:\n",
        "\n",
        "- `n_estimators=10`  \n",
        "- `random_state=1`  \n",
        "- `n_jobs=-1` (optional-to make training faster)"
      ]
    },
    {
      "cell_type": "code",
      "execution_count": 10,
      "metadata": {
        "id": "2w-YSGYMisFt"
      },
      "outputs": [
        {
          "data": {
            "text/plain": [
              "RandomForestRegressor(n_estimators=10, n_jobs=-1, random_state=1)"
            ]
          },
          "execution_count": 10,
          "metadata": {},
          "output_type": "execute_result"
        }
      ],
      "source": [
        "#@ TRAINING RANDOM FOREST MODEL:\n",
        "dt = RandomForestRegressor(\n",
        "    n_estimators = 10,\n",
        "    random_state=1,\n",
        "    n_jobs=-1)\n",
        "\n",
        "dt.fit(X_train, y_train)"
      ]
    },
    {
      "cell_type": "code",
      "execution_count": 12,
      "metadata": {
        "id": "jCxUAO2Rq1Ps"
      },
      "outputs": [],
      "source": [
        "#@ CALCULATING MEAN SQUARED ERROR:\n",
        "def rmse(y, y_pred):\n",
        "    se = (y - y_pred) ** 2\n",
        "    mse = se.mean()\n",
        "    return np.sqrt(mse)"
      ]
    },
    {
      "cell_type": "code",
      "execution_count": 13,
      "metadata": {},
      "outputs": [
        {
          "data": {
            "text/plain": [
              "0.24566012875324927"
            ]
          },
          "execution_count": 13,
          "metadata": {},
          "output_type": "execute_result"
        }
      ],
      "source": [
        "y_pred = dt.predict(X_val)\n",
        "rmse(y_val, y_pred)"
      ]
    },
    {
      "cell_type": "markdown",
      "metadata": {
        "id": "jfcDllHxrTqu"
      },
      "source": [
        "- What's the RMSE of this model on validation?\n",
        "\n",
        "- Answer: 0.25"
      ]
    },
    {
      "cell_type": "markdown",
      "metadata": {
        "id": "Y7K69bFSrg_V"
      },
      "source": [
        "**Question 3**\n",
        "\n",
        "Now, let's experiment with the `n_estimators` parameter.\n",
        "\n",
        "- Try different values of this parameter from 10 to 200 with step 10.\n",
        "- Set `random_state` to 1.\n",
        "- Evaluate the model on the validation dataset."
      ]
    },
    {
      "cell_type": "code",
      "execution_count": 19,
      "metadata": {
        "id": "-oUFCQwOrQNN"
      },
      "outputs": [],
      "source": [
        "#@ TRAINING THE RANDOM FOREST MODEL:\n",
        "scores = []\n",
        "n_estimators = np.linspace(10, 200, 20)\n",
        "\n",
        "for n in n_estimators:\n",
        "    \n",
        "    dt = RandomForestRegressor(\n",
        "        n_estimators = int(n),\n",
        "        random_state=1,\n",
        "        n_jobs=-1\n",
        "    )\n",
        "\n",
        "    dt.fit(X_train, y_train)\n",
        "\n",
        "    y_pred = dt.predict(X_val) \n",
        "    scores.append(rmse(y_val, y_pred))"
      ]
    },
    {
      "cell_type": "code",
      "execution_count": 23,
      "metadata": {
        "id": "3J-wFLh4s8Ky"
      },
      "outputs": [
        {
          "data": {
            "text/plain": [
              "<matplotlib.legend.Legend at 0x7fc21dfee8b0>"
            ]
          },
          "execution_count": 23,
          "metadata": {},
          "output_type": "execute_result"
        },
        {
          "data": {
            "image/png": "[encoded data removed]",
            "text/plain": [
              "<Figure size 432x288 with 1 Axes>"
            ]
          },
          "metadata": {
            "needs_background": "light"
          },
          "output_type": "display_data"
        }
      ],
      "source": [
        "#@ INSPECTING THE RMSE SCORES:\n",
        "best_estimators = dict(zip(n_estimators, scores))\n",
        "plt.plot(n_estimators, scores, label='RMSE scores')\n",
        "plt.legend()"
      ]
    },
    {
      "cell_type": "markdown",
      "metadata": {
        "id": "NAXZcW3AuC-d"
      },
      "source": [
        "- After which value of `n_estimators` does RMSE stop improving?\n",
        "\n",
        "- Answer: 100"
      ]
    },
    {
      "cell_type": "markdown",
      "metadata": {
        "id": "CYhRv3kEvWjK"
      },
      "source": [
        "**Question 4**\n",
        "\n",
        "Let's select the best `max_depth`:\n",
        "\n",
        "- Try different values of `max_depth`: [10, 15, 20, 25].\n",
        "- For each of these values, try different values of n_estimators from 10 till 200 (with step 10).\n",
        "- Fix the random seed: `random_state=1`."
      ]
    },
    {
      "cell_type": "code",
      "execution_count": 24,
      "metadata": {
        "id": "fO9TackKvKcS"
      },
      "outputs": [],
      "source": [
        "#@ TRAINING THE MODEL WITH DEPTH:\n",
        "#@ TRAINING THE RANDOM FOREST MODEL:\n",
        "scores = []\n",
        "max_depths = [10, 15, 20, 25]\n",
        "n_estimators = np.linspace(10, 200, 20)\n",
        "\n",
        "for m in max_depths:\n",
        "    for n in n_estimators:\n",
        "        \n",
        "        dt = RandomForestRegressor(\n",
        "            n_estimators = int(n),\n",
        "            max_depth = m,\n",
        "            random_state=1,\n",
        "            n_jobs=-1\n",
        "        )\n",
        "\n",
        "        dt.fit(X_train, y_train)\n",
        "\n",
        "        y_pred = dt.predict(X_val) \n",
        "        scores.append(rmse(y_val, y_pred))"
      ]
    },
    {
      "cell_type": "code",
      "execution_count": 32,
      "metadata": {},
      "outputs": [
        {
          "data": {
            "text/plain": [
              "<matplotlib.legend.Legend at 0x7fc21e004eb0>"
            ]
          },
          "execution_count": 32,
          "metadata": {},
          "output_type": "execute_result"
        },
        {
          "data": {
            "image/png": "[encoded data removed]",
            "text/plain": [
              "<Figure size 432x288 with 1 Axes>"
            ]
          },
          "metadata": {
            "needs_background": "light"
          },
          "output_type": "display_data"
        }
      ],
      "source": [
        "plt.scatter(np.repeat(max_depths, len(n_estimators)), scores, label='RMSE scores')\n",
        "plt.legend()"
      ]
    },
    {
      "cell_type": "markdown",
      "metadata": {
        "id": "eCRCaKlSwp7D"
      },
      "source": [
        "- What's the best `max_depth`:\n",
        "\n",
        "- Answer: 25"
      ]
    },
    {
      "cell_type": "markdown",
      "metadata": {
        "id": "BDLbx3N5xAoY"
      },
      "source": [
        "**Question 5**\n",
        "\n",
        "We can extract feature importance information from tree-based models.\n",
        "\n",
        "At each step of the decision tree learning algorith, it finds the best split. When doint it, we can calculate \"gain\" - the reduction in impurity before and after the split. This gain is quite useful in understanding what are the imporatant features for tree-based models.\n",
        "\n",
        "In Scikit-Learn, tree-based models contain this information in the `feature_importances_` field.\n",
        "\n",
        "For this homework question, we'll find the most important feature:\n",
        "\n",
        "Train the model with these parametes:\n",
        "- `n_estimators=10`,\n",
        "- `max_depth=20`,\n",
        "- `random_state=1`,\n",
        "- `n_jobs=-1` (optional)\n",
        "\n",
        "Get the feature importance information from this model"
      ]
    },
    {
      "cell_type": "code",
      "execution_count": 36,
      "metadata": {
        "id": "UICqST2Qwhbj"
      },
      "outputs": [
        {
          "data": {
            "text/plain": [
              "RandomForestRegressor(max_depth=20, n_estimators=10, n_jobs=-1, random_state=1)"
            ]
          },
          "execution_count": 36,
          "metadata": {},
          "output_type": "execute_result"
        }
      ],
      "source": [
        "#@ TRAINING THE RANDOM FOREST MODEL:\n",
        "dt = RandomForestRegressor(\n",
        "    n_estimators = 10,\n",
        "    max_depth = 20,\n",
        "    random_state=1,\n",
        "    n_jobs=-1\n",
        ")\n",
        "\n",
        "dt.fit(X_train, y_train)"
      ]
    },
    {
      "cell_type": "code",
      "execution_count": 39,
      "metadata": {},
      "outputs": [
        {
          "data": {
            "text/plain": [
              "[(0.016387382721975895, 'longitude'),\n",
              " (0.03314545802888494, 'latitude'),\n",
              " (0.10125584919636603, 'housing_median_age'),\n",
              " (0.09647021370105628, 'total_rooms'),\n",
              " (0.3633258427603735, 'total_bedrooms'),\n",
              " (0.0024888027585429112, 'population'),\n",
              " (0.3109008417080609, 'households'),\n",
              " (0.0003568062629467623, 'median_income'),\n",
              " (0.00048036979631206085, 'median_house_value'),\n",
              " (0.004698766933197919, 'ocean_proximity')]"
            ]
          },
          "execution_count": 39,
          "metadata": {},
          "output_type": "execute_result"
        }
      ],
      "source": [
        "list(zip(dt.feature_importances_, df.columns.values))"
      ]
    },
    {
      "cell_type": "markdown",
      "metadata": {
        "id": "kSCqlx9jye1s"
      },
      "source": [
        "- What's the most important feature?\n",
        "\n",
        "- Answer: total_bedrooms"
      ]
    },
    {
      "cell_type": "markdown",
      "metadata": {
        "id": "K5KEdiTMzPaI"
      },
      "source": [
        "**Question 6**\n",
        "\n",
        "Now let's train an XGBoost model! For this question, we'll tune the eta parameter:\n",
        "\n",
        "- Install XGBoost.\n",
        "- Create DMatrix for train and validation\n",
        "- Create a watchlist\n",
        "- Train a model with these parameters for 100 rounds:\n",
        "\n",
        "```\n",
        "xgb_params = {  \n",
        "    'eta': 0.3,  \n",
        "    'max_depth': 6,  \n",
        "    'min_child_weight': 1,  \n",
        "\n",
        "    'objective': 'reg:squarederror',\n",
        "    'nthread': 8,\n",
        "\n",
        "    'seed': 1,\n",
        "    'verbosity': 1,\n",
        "}\n",
        "```\n",
        "\n"
      ]
    },
    {
      "cell_type": "code",
      "execution_count": 40,
      "metadata": {
        "id": "TUP0uoL5yZTc"
      },
      "outputs": [],
      "source": [
        "#@ CREATING THE DMARTIX:\n",
        "features = dv.feature_names_\n",
        "\n",
        "regex = re.compile(r\"<\", re.IGNORECASE)\n",
        "features = [regex.sub(\"_\", col) if any(x in str(col) for x in set(('[', ']', '<'))) else col for col in features]\n",
        "\n",
        "dtrain = xgb.DMatrix(X_train, label=y_train, feature_names=features)\n",
        "dval = xgb.DMatrix(X_val, label=y_val, feature_names=features)"
      ]
    },
    {
      "cell_type": "code",
      "execution_count": 41,
      "metadata": {
        "id": "lRRzLznP-Z-Q"
      },
      "outputs": [],
      "source": [
        "watchlist = [(dtrain, 'train'), (dval, 'val')]"
      ]
    },
    {
      "cell_type": "code",
      "execution_count": 43,
      "metadata": {},
      "outputs": [],
      "source": [
        "%%capture output\n",
        "\n",
        "xgb_params = {  \n",
        "    'eta': 0.3,  \n",
        "    'max_depth': 6,  \n",
        "    'min_child_weight': 1,  \n",
        "\n",
        "    'objective': 'reg:squarederror',\n",
        "    'nthread': 8,\n",
        "\n",
        "    'seed': 1,\n",
        "    'verbosity': 1,\n",
        "}\n",
        "\n",
        "model = xgb.train(xgb_params, dtrain, num_boost_round=100,\n",
        "                  verbose_eval=5,\n",
        "                  evals=watchlist)"
      ]
    },
    {
      "cell_type": "code",
      "execution_count": 46,
      "metadata": {},
      "outputs": [
        {
          "data": {
            "text/plain": [
              "0.2260957847928297"
            ]
          },
          "execution_count": 46,
          "metadata": {},
          "output_type": "execute_result"
        }
      ],
      "source": [
        "rmse(model.predict(dval), y_val)"
      ]
    },
    {
      "cell_type": "code",
      "execution_count": 47,
      "metadata": {},
      "outputs": [],
      "source": [
        "%%capture output\n",
        "\n",
        "xgb_params = {  \n",
        "    'eta': 0.1,  \n",
        "    'max_depth': 6,  \n",
        "    'min_child_weight': 1,  \n",
        "\n",
        "    'objective': 'reg:squarederror',\n",
        "    'nthread': 8,\n",
        "\n",
        "    'seed': 1,\n",
        "    'verbosity': 1,\n",
        "}\n",
        "\n",
        "model = xgb.train(xgb_params, dtrain, num_boost_round=100,\n",
        "                  verbose_eval=5,\n",
        "                  evals=watchlist)"
      ]
    },
    {
      "cell_type": "code",
      "execution_count": 48,
      "metadata": {},
      "outputs": [
        {
          "data": {
            "text/plain": [
              "0.2305416021993131"
            ]
          },
          "execution_count": 48,
          "metadata": {},
          "output_type": "execute_result"
        }
      ],
      "source": [
        "rmse(model.predict(dval), y_val)"
      ]
    },
    {
      "cell_type": "markdown",
      "metadata": {
        "id": "3RmcQ1BQ64X-"
      },
      "source": [
        "- Now, change eta from 0.3 to 0.1"
      ]
    },
    {
      "cell_type": "markdown",
      "metadata": {
        "id": "Yl6Xn6Zb76iH"
      },
      "source": [
        "- Which eta leads to the best RMSE score on the validation dataset?\n",
        "\n",
        "- Answer: 0.3"
      ]
    }
  ],
  "metadata": {
    "colab": {
      "provenance": []
    },
    "kernelspec": {
      "display_name": "Python 3.9.12 ('exp-tracking-env')",
      "language": "python",
      "name": "python3"
    },
    "language_info": {
      "codemirror_mode": {
        "name": "ipython",
        "version": 3
      },
      "file_extension": ".py",
      "mimetype": "text/x-python",
      "name": "python",
      "nbconvert_exporter": "python",
      "pygments_lexer": "ipython3",
      "version": "3.9.12"
    },
    "vscode": {
      "interpreter": {
        "hash": "5380a5719b5173b0967bd676da126000398f1602898d455dca59b24a07874c2a"
      }
    }
  },
  "nbformat": 4,
  "nbformat_minor": 0
}
