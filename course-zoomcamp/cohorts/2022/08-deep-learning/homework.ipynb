{
 "cells": [
  {
   "cell_type": "markdown",
   "metadata": {
    "id": "-JrenrSGmAeg"
   },
   "source": [
    "## Homework\n",
    "\n",
    "### Dataset\n",
    "\n",
    "In this homework, we'll build a model for predicting if we have an image of a dino or a dragon. For this, we will use the \"Dino or Dragon?\" dataset that can be downloaded from [Kaggle](https://www.kaggle.com/datasets/agrigorev/dino-or-dragon)."
   ]
  },
  {
   "cell_type": "code",
   "execution_count": 1,
   "metadata": {},
   "outputs": [],
   "source": [
    "# !wget https://github.com/alexeygrigorev/dino-or-dragon/releases/download/data/dino-dragon.zip\n",
    "# !unzip dino-dragon.zip"
   ]
  },
  {
   "cell_type": "code",
   "execution_count": 2,
   "metadata": {
    "id": "nLosiCNJUjDM"
   },
   "outputs": [],
   "source": [
    "#@ IMPORTING LIBRARIES AND DEPENDENCIES:\n",
    "import numpy as np\n",
    "import tensorflow as tf\n",
    "from tensorflow import keras\n",
    "\n",
    "%matplotlib inline"
   ]
  },
  {
   "cell_type": "markdown",
   "metadata": {},
   "source": [
    "### Model"
   ]
  },
  {
   "cell_type": "code",
   "execution_count": 3,
   "metadata": {},
   "outputs": [],
   "source": [
    "def make_model(learning_rate=0.002, momentum=0.8):\n",
    "\n",
    "    \n",
    "    inputs = keras.Input(shape=(150, 150, 3))\n",
    "\n",
    "    conv = keras.layers.Conv2D(filters=32, kernel_size=(3,3), activation='relu')(inputs)\n",
    "    pooling = keras.layers.MaxPooling2D(pool_size=(2, 2))(conv)\n",
    "    flatten = keras.layers.Flatten()(pooling)\n",
    "\n",
    "    ffn = keras.layers.Dense(64, activation='relu')(flatten)\n",
    "    outputs = keras.layers.Dense(1, activation='sigmoid')(ffn)\n",
    "    \n",
    "    model = keras.Model(inputs, outputs)\n",
    "    \n",
    "    #########################################\n",
    "\n",
    "    optimizer = keras.optimizers.SGD(learning_rate=learning_rate, momentum=momentum)\n",
    "    loss = keras.losses.BinaryCrossentropy()\n",
    "\n",
    "    model.compile(\n",
    "        optimizer=optimizer,\n",
    "        loss=loss,\n",
    "        metrics=['accuracy']\n",
    "    )\n",
    "    \n",
    "    return model"
   ]
  },
  {
   "cell_type": "markdown",
   "metadata": {
    "id": "qvxmhaD5hmAK"
   },
   "source": [
    "### Question 1\n",
    "\n",
    "Since we have a binary classification problem, what is the best loss function for us?\n",
    "\n",
    "- binary crossentropy\n",
    "- focal loss\n",
    "- mean squared error\n",
    "- categorical crossentropy"
   ]
  },
  {
   "cell_type": "markdown",
   "metadata": {},
   "source": [
    "Answer: binary crossentropy"
   ]
  },
  {
   "cell_type": "markdown",
   "metadata": {},
   "source": [
    "### Question 2\n",
    "\n",
    "What's the total number of parameters of the model? You can use the `summary` method for that. \n",
    "\n",
    "- 9215873\n",
    "- 11215873\n",
    "- 14215873\n",
    "- 19215873"
   ]
  },
  {
   "cell_type": "code",
   "execution_count": 4,
   "metadata": {},
   "outputs": [
    {
     "name": "stdout",
     "output_type": "stream",
     "text": [
      "Model: \"model\"\n",
      "_________________________________________________________________\n",
      " Layer (type)                Output Shape              Param #   \n",
      "=================================================================\n",
      " input_1 (InputLayer)        [(None, 150, 150, 3)]     0         \n",
      "                                                                 \n",
      " conv2d (Conv2D)             (None, 148, 148, 32)      896       \n",
      "                                                                 \n",
      " max_pooling2d (MaxPooling2D  (None, 74, 74, 32)       0         \n",
      " )                                                               \n",
      "                                                                 \n",
      " flatten (Flatten)           (None, 175232)            0         \n",
      "                                                                 \n",
      " dense (Dense)               (None, 64)                11214912  \n",
      "                                                                 \n",
      " dense_1 (Dense)             (None, 1)                 65        \n",
      "                                                                 \n",
      "=================================================================\n",
      "Total params: 11,215,873\n",
      "Trainable params: 11,215,873\n",
      "Non-trainable params: 0\n",
      "_________________________________________________________________\n"
     ]
    }
   ],
   "source": [
    "model = make_model()\n",
    "model.summary()"
   ]
  },
  {
   "cell_type": "markdown",
   "metadata": {},
   "source": [
    "Answer: 11,215,873"
   ]
  },
  {
   "cell_type": "markdown",
   "metadata": {},
   "source": [
    "### Generators and Training"
   ]
  },
  {
   "cell_type": "code",
   "execution_count": 5,
   "metadata": {},
   "outputs": [
    {
     "name": "stdout",
     "output_type": "stream",
     "text": [
      "Found 1594 images belonging to 2 classes.\n",
      "Found 394 images belonging to 2 classes.\n"
     ]
    }
   ],
   "source": [
    "datagen = keras.preprocessing.image.ImageDataGenerator(rescale=1./255)\n",
    "\n",
    "train_generator = datagen.flow_from_directory(\n",
    "        './train',\n",
    "        target_size=(150, 150),\n",
    "        batch_size=20,\n",
    "        class_mode='binary',\n",
    "        shuffle=True\n",
    ")\n",
    "test_generator = datagen.flow_from_directory(\n",
    "        './test',\n",
    "        target_size=(150, 150),\n",
    "        batch_size=20,\n",
    "        class_mode='binary',\n",
    "        shuffle=True\n",
    ")"
   ]
  },
  {
   "cell_type": "code",
   "execution_count": 6,
   "metadata": {
    "scrolled": true
   },
   "outputs": [
    {
     "name": "stdout",
     "output_type": "stream",
     "text": [
      "Epoch 1/10\n",
      "80/80 [==============================] - 10s 74ms/step - loss: 0.6343 - accuracy: 0.6299 - val_loss: 0.5311 - val_accuracy: 0.8046\n",
      "Epoch 2/10\n",
      "80/80 [==============================] - 6s 70ms/step - loss: 0.4800 - accuracy: 0.7880 - val_loss: 0.4283 - val_accuracy: 0.8274\n",
      "Epoch 3/10\n",
      "80/80 [==============================] - 6s 70ms/step - loss: 0.3927 - accuracy: 0.8388 - val_loss: 0.3747 - val_accuracy: 0.8350\n",
      "Epoch 4/10\n",
      "80/80 [==============================] - 6s 70ms/step - loss: 0.3414 - accuracy: 0.8720 - val_loss: 0.3375 - val_accuracy: 0.8731\n",
      "Epoch 5/10\n",
      "80/80 [==============================] - 6s 69ms/step - loss: 0.3080 - accuracy: 0.8808 - val_loss: 0.3232 - val_accuracy: 0.8553\n",
      "Epoch 6/10\n",
      "80/80 [==============================] - 6s 71ms/step - loss: 0.2821 - accuracy: 0.8877 - val_loss: 0.3455 - val_accuracy: 0.8452\n",
      "Epoch 7/10\n",
      "80/80 [==============================] - 6s 72ms/step - loss: 0.2581 - accuracy: 0.9034 - val_loss: 0.3101 - val_accuracy: 0.8629\n",
      "Epoch 8/10\n",
      "80/80 [==============================] - 6s 70ms/step - loss: 0.2389 - accuracy: 0.9072 - val_loss: 0.2925 - val_accuracy: 0.8756\n",
      "Epoch 9/10\n",
      "80/80 [==============================] - 6s 72ms/step - loss: 0.2151 - accuracy: 0.9241 - val_loss: 0.3333 - val_accuracy: 0.8528\n",
      "Epoch 10/10\n",
      "80/80 [==============================] - 6s 71ms/step - loss: 0.1854 - accuracy: 0.9335 - val_loss: 0.3591 - val_accuracy: 0.8426\n"
     ]
    }
   ],
   "source": [
    "history = model.fit(\n",
    "    train_generator,\n",
    "    epochs=10,\n",
    "    validation_data=test_generator\n",
    ")"
   ]
  },
  {
   "cell_type": "markdown",
   "metadata": {},
   "source": [
    "### Question 3\n",
    "\n",
    "What is the median of training accuracy for all the epochs for this model?\n",
    "\n",
    "- 0.40\n",
    "- 0.60\n",
    "- 0.90\n",
    "- 0.20"
   ]
  },
  {
   "cell_type": "code",
   "execution_count": 7,
   "metadata": {},
   "outputs": [
    {
     "data": {
      "text/plain": [
       "0.8842534422874451"
      ]
     },
     "execution_count": 7,
     "metadata": {},
     "output_type": "execute_result"
    }
   ],
   "source": [
    "hist = history.history\n",
    "np.median(hist['accuracy'])"
   ]
  },
  {
   "cell_type": "markdown",
   "metadata": {},
   "source": [
    "Answer: 0.90"
   ]
  },
  {
   "cell_type": "markdown",
   "metadata": {},
   "source": [
    "### Question 4\n",
    "\n",
    "What is the standard deviation of training loss for all the epochs for this model?\n",
    "\n",
    "- 0.11\n",
    "- 0.66\n",
    "- 0.99\n",
    "- 0.33"
   ]
  },
  {
   "cell_type": "code",
   "execution_count": 8,
   "metadata": {},
   "outputs": [
    {
     "data": {
      "text/plain": [
       "0.13013788197449283"
      ]
     },
     "execution_count": 8,
     "metadata": {},
     "output_type": "execute_result"
    }
   ],
   "source": [
    "np.std(hist['loss'])"
   ]
  },
  {
   "cell_type": "markdown",
   "metadata": {},
   "source": [
    "Answer: 0.11"
   ]
  },
  {
   "cell_type": "markdown",
   "metadata": {},
   "source": [
    "### Data Augmentation"
   ]
  },
  {
   "cell_type": "code",
   "execution_count": 9,
   "metadata": {},
   "outputs": [
    {
     "name": "stdout",
     "output_type": "stream",
     "text": [
      "Found 1594 images belonging to 2 classes.\n"
     ]
    }
   ],
   "source": [
    "train_datagen = keras.preprocessing.image.ImageDataGenerator(\n",
    "    rescale=1./255,\n",
    "    rotation_range=40,\n",
    "    width_shift_range=0.2,\n",
    "    height_shift_range=0.2,\n",
    "    shear_range=0.2,\n",
    "    zoom_range=0.2,\n",
    "    horizontal_flip=True,\n",
    "    fill_mode='nearest'\n",
    ")\n",
    "train_generator = datagen.flow_from_directory(\n",
    "        './train',\n",
    "        target_size=(150, 150),\n",
    "        batch_size=20,\n",
    "        class_mode='binary',\n",
    "        shuffle=True\n",
    ")"
   ]
  },
  {
   "cell_type": "markdown",
   "metadata": {},
   "source": [
    "### Question 5 \n",
    "\n",
    "Let's train our model for 10 more epochs using the same code as previously.\n",
    "Make sure you don't re-create the model - we want to continue training the model\n",
    "we already started training.\n",
    "\n",
    "What is the mean of test loss for all the epochs for the model trained with augmentations?\n",
    "\n",
    "- 0.15\n",
    "- 0.77\n",
    "- 0.37\n",
    "- 0.97"
   ]
  },
  {
   "cell_type": "code",
   "execution_count": 10,
   "metadata": {},
   "outputs": [
    {
     "name": "stdout",
     "output_type": "stream",
     "text": [
      "Epoch 1/10\n",
      "80/80 [==============================] - 6s 73ms/step - loss: 0.1546 - accuracy: 0.9548 - val_loss: 0.2921 - val_accuracy: 0.8782\n",
      "Epoch 2/10\n",
      "80/80 [==============================] - 6s 72ms/step - loss: 0.1418 - accuracy: 0.9523 - val_loss: 0.2879 - val_accuracy: 0.8782\n",
      "Epoch 3/10\n",
      "80/80 [==============================] - 6s 70ms/step - loss: 0.1175 - accuracy: 0.9668 - val_loss: 0.3010 - val_accuracy: 0.8655\n",
      "Epoch 4/10\n",
      "80/80 [==============================] - 6s 71ms/step - loss: 0.1060 - accuracy: 0.9737 - val_loss: 0.2944 - val_accuracy: 0.8807\n",
      "Epoch 5/10\n",
      "80/80 [==============================] - 6s 71ms/step - loss: 0.0821 - accuracy: 0.9831 - val_loss: 0.3060 - val_accuracy: 0.8756\n",
      "Epoch 6/10\n",
      "80/80 [==============================] - 6s 72ms/step - loss: 0.0640 - accuracy: 0.9906 - val_loss: 0.3119 - val_accuracy: 0.8680\n",
      "Epoch 7/10\n",
      "80/80 [==============================] - 6s 71ms/step - loss: 0.0551 - accuracy: 0.9931 - val_loss: 0.2985 - val_accuracy: 0.8731\n",
      "Epoch 8/10\n",
      "80/80 [==============================] - 6s 73ms/step - loss: 0.0474 - accuracy: 0.9950 - val_loss: 0.3064 - val_accuracy: 0.8756\n",
      "Epoch 9/10\n",
      "80/80 [==============================] - 6s 71ms/step - loss: 0.0376 - accuracy: 0.9969 - val_loss: 0.3145 - val_accuracy: 0.8883\n",
      "Epoch 10/10\n",
      "80/80 [==============================] - 6s 71ms/step - loss: 0.0311 - accuracy: 0.9994 - val_loss: 0.3227 - val_accuracy: 0.8807\n"
     ]
    }
   ],
   "source": [
    "history = model.fit(\n",
    "    train_generator,\n",
    "    epochs=10,\n",
    "    validation_data=test_generator\n",
    ")"
   ]
  },
  {
   "cell_type": "code",
   "execution_count": 11,
   "metadata": {},
   "outputs": [
    {
     "data": {
      "text/plain": [
       "0.303537517786026"
      ]
     },
     "execution_count": 11,
     "metadata": {},
     "output_type": "execute_result"
    }
   ],
   "source": [
    "hist = history.history\n",
    "np.mean(hist['val_loss'])"
   ]
  },
  {
   "cell_type": "markdown",
   "metadata": {},
   "source": [
    "Answer: 0.37"
   ]
  },
  {
   "cell_type": "markdown",
   "metadata": {},
   "source": [
    "### Question 6\n",
    "\n",
    "What's the average of test accuracy for the last 5 epochs (from 6 to 10)\n",
    "for the model trained with augmentations?\n",
    "\n",
    "- 0.84\n",
    "- 0.54\n",
    "- 0.44\n",
    "- 0.24"
   ]
  },
  {
   "cell_type": "code",
   "execution_count": 12,
   "metadata": {},
   "outputs": [
    {
     "name": "stdout",
     "output_type": "stream",
     "text": [
      "[0.8680202960968018, 0.8730964660644531, 0.875634491443634, 0.8883248567581177, 0.8807106614112854]\n"
     ]
    },
    {
     "data": {
      "text/plain": [
       "0.8771573543548584"
      ]
     },
     "execution_count": 12,
     "metadata": {},
     "output_type": "execute_result"
    }
   ],
   "source": [
    "print(hist['val_accuracy'][5:])\n",
    "np.mean(hist['val_accuracy'][5:])"
   ]
  },
  {
   "cell_type": "markdown",
   "metadata": {},
   "source": [
    "Answer: 0.84"
   ]
  }
 ],
 "metadata": {
  "colab": {
   "provenance": []
  },
  "kernelspec": {
   "display_name": "Python 3 (ipykernel)",
   "language": "python",
   "name": "python3"
  },
  "language_info": {
   "codemirror_mode": {
    "name": "ipython",
    "version": 3
   },
   "file_extension": ".py",
   "mimetype": "text/x-python",
   "name": "python",
   "nbconvert_exporter": "python",
   "pygments_lexer": "ipython3",
   "version": "3.8.13"
  },
  "vscode": {
   "interpreter": {
    "hash": "6985ca9edadf785ffb39b5175c1ea3cc242afc0ecb9352eaccc1714ebb2bffce"
   }
  }
 },
 "nbformat": 4,
 "nbformat_minor": 1
}
