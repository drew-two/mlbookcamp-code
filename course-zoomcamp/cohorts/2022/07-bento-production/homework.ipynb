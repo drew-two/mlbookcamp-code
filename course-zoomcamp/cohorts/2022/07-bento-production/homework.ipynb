{
  "cells": [
    {
      "cell_type": "markdown",
      "metadata": {
        "id": "-JrenrSGmAeg"
      },
      "source": [
        "**HOMEWORK**  \n",
        "\n",
        "[Homework Markdown](homework.md)\n"
      ]
    },
    {
      "cell_type": "code",
      "execution_count": 20,
      "metadata": {
        "id": "nLosiCNJUjDM"
      },
      "outputs": [],
      "source": [
        "#@ IMPORTING LIBRARIES AND DEPENDENCIES:\n",
        "import bentoml\n",
        "import numpy as np\n",
        "import pandas as pd\n",
        "import seaborn as sns\n",
        "from bentoml.io import JSON, NumpyNdarray\n",
        "from pydantic import BaseModel\n",
        "import matplotlib.pyplot as plt\n",
        "\n",
        "%matplotlib inline"
      ]
    },
    {
      "cell_type": "markdown",
      "metadata": {
        "id": "qvxmhaD5hmAK"
      },
      "source": [
        "**Question 1**\n",
        "\n",
        "* Install BentoML\n",
        "* What's the version of BentoML you installed?\n",
        "* Use `--version` to find out"
      ]
    },
    {
      "cell_type": "code",
      "execution_count": 21,
      "metadata": {
        "id": "sLAnqRwuikqQ"
      },
      "outputs": [],
      "source": [
        "!pip install bentoML -q"
      ]
    },
    {
      "cell_type": "code",
      "execution_count": 22,
      "metadata": {},
      "outputs": [
        {
          "name": "stdout",
          "output_type": "stream",
          "text": [
            "bentoml, version 1.0.7\n"
          ]
        }
      ],
      "source": [
        "!bentoml --version"
      ]
    },
    {
      "cell_type": "markdown",
      "metadata": {
        "id": "JNBm-qeRp6aZ"
      },
      "source": [
        "- What's the version of BentoML you installed?\n",
        "\n",
        "- Answer: 1.0.7"
      ]
    },
    {
      "cell_type": "markdown",
      "metadata": {
        "id": "Xhnbdy-CqQoB"
      },
      "source": [
        "**Question 2**\n",
        "\n",
        "BentoML. To make it easier for you we have prepared this [notebook](train.ipynb). "
      ]
    },
    {
      "cell_type": "code",
      "execution_count": 23,
      "metadata": {
        "id": "2w-YSGYMisFt"
      },
      "outputs": [
        {
          "name": "stdout",
          "output_type": "stream",
          "text": [
            "\u001b[1m \u001b[0m\u001b[1mTag                         \u001b[0m\u001b[1m \u001b[0m\u001b[1m \u001b[0m\u001b[1mModule         \u001b[0m\u001b[1m \u001b[0m\u001b[1m \u001b[0m\u001b[1mSize      \u001b[0m\u001b[1m \u001b[0m\u001b[1m \u001b[0m\u001b[1mCreation Time      \u001b[0m\u001b[1m \u001b[0m\n",
            " credit_risk_model:vrwnb4sub…  bentoml.xgboost  197.77 KiB  2022-10-24 22:35:22 \n",
            " credit_risk_model:roq6vjcub…  bentoml.xgboost  196.30 KiB  2022-10-24 22:12:58 \n",
            " credit_risk_model:hcxt2ost2…  bentoml.xgboost  197.77 KiB  2022-10-24 15:58:25 \n",
            " mlzoomcamp_homework:jsi67fs…  bentoml.sklearn  5.82 KiB    2022-10-14 10:48:43 \n",
            " mlzoomcamp_homework:qtzdz3s…  bentoml.sklearn  5.79 KiB    2022-10-13 16:42:14 \n"
          ]
        }
      ],
      "source": [
        "!bentoml models list"
      ]
    },
    {
      "cell_type": "markdown",
      "metadata": {
        "id": "jCxUAO2Rq1Ps"
      },
      "source": [
        "- How big approximately is the saved BentoML model? Size can slightly vary depending on your local development environment.\n",
        "Choose the size closest to your model.\n",
        "\n",
        "- Answer: 114kb"
      ]
    },
    {
      "cell_type": "markdown",
      "metadata": {
        "id": "Y7K69bFSrg_V"
      },
      "source": [
        "**Question 3**\n",
        "\n",
        "Say you have the following data that you're sending to your service:\n",
        "\n",
        "```json\n",
        "{\n",
        "  \"name\": \"Tim\",\n",
        "  \"age\": 37,\n",
        "  \"country\": \"US\",\n",
        "  \"rating\": 3.14\n",
        "}\n",
        "```\n",
        "\n",
        "What would the pydantic class look like? You can name the class `UserProfile`."
      ]
    },
    {
      "cell_type": "code",
      "execution_count": 24,
      "metadata": {
        "id": "-oUFCQwOrQNN"
      },
      "outputs": [],
      "source": [
        "#@ CREATING THE USERPROFILE CLASS:\n",
        "\n",
        "class UserProfile(BaseModel):\n",
        "    name: str\n",
        "    age: int\n",
        "    country: str\n",
        "    rating: float"
      ]
    },
    {
      "cell_type": "markdown",
      "metadata": {
        "id": "CYhRv3kEvWjK"
      },
      "source": [
        "**Question 4**\n",
        "\n",
        "We've prepared a model for you that you can import using:\n",
        "\n",
        "```bash\n",
        "curl -O https://s3.us-west-2.amazonaws.com/bentoml.com/mlzoomcamp/coolmodel.bentomodel\n",
        "bentoml models import coolmodel.bentomodel\n",
        "```"
      ]
    },
    {
      "cell_type": "code",
      "execution_count": 25,
      "metadata": {
        "id": "fO9TackKvKcS"
      },
      "outputs": [
        {
          "name": "stdout",
          "output_type": "stream",
          "text": [
            "  % Total    % Received % Xferd  Average Speed   Time    Time     Time  Current\n",
            "                                 Dload  Upload   Total   Spent    Left  Speed\n",
            "100  1724  100  1724    0     0   5224      0 --:--:-- --:--:-- --:--:--  5208\n",
            "Error: \u001b[31m[models] `import` failed: Item 'mlzoomcamp_homework:qtzdz3slg6mwwdu5' already exists in the store <osfs '/home/andre/bentoml/models'>\u001b[0m\n"
          ]
        }
      ],
      "source": [
        "!curl -O https://s3.us-west-2.amazonaws.com/bentoml.com/mlzoomcamp/coolmodel.bentomodel\n",
        "!bentoml models import coolmodel.bentomodel"
      ]
    },
    {
      "cell_type": "code",
      "execution_count": 26,
      "metadata": {},
      "outputs": [
        {
          "name": "stdout",
          "output_type": "stream",
          "text": [
            "\u001b[91;40mname\u001b[0m\u001b[97;40m:\u001b[0m\u001b[97;40m \u001b[0m\u001b[40mmlzoomcamp_homework\u001b[0m\u001b[40m                                                       \u001b[0m\n",
            "\u001b[91;40mversion\u001b[0m\u001b[97;40m:\u001b[0m\u001b[97;40m \u001b[0m\u001b[40mqtzdz3slg6mwwdu5\u001b[0m\u001b[40m                                                       \u001b[0m\n",
            "\u001b[91;40mmodule\u001b[0m\u001b[97;40m:\u001b[0m\u001b[97;40m \u001b[0m\u001b[40mbentoml.sklearn\u001b[0m\u001b[40m                                                         \u001b[0m\n",
            "\u001b[91;40mlabels\u001b[0m\u001b[97;40m:\u001b[0m\u001b[97;40m \u001b[0m\u001b[40m{\u001b[0m\u001b[40m}\u001b[0m\u001b[40m                                                                      \u001b[0m\n",
            "\u001b[91;40moptions\u001b[0m\u001b[97;40m:\u001b[0m\u001b[97;40m \u001b[0m\u001b[40m{\u001b[0m\u001b[40m}\u001b[0m\u001b[40m                                                                     \u001b[0m\n",
            "\u001b[91;40mmetadata\u001b[0m\u001b[97;40m:\u001b[0m\u001b[97;40m \u001b[0m\u001b[40m{\u001b[0m\u001b[40m}\u001b[0m\u001b[40m                                                                    \u001b[0m\n",
            "\u001b[91;40mcontext\u001b[0m\u001b[97;40m:\u001b[0m\u001b[40m                                                                        \u001b[0m\n",
            "\u001b[97;40m  \u001b[0m\u001b[91;40mframework_name\u001b[0m\u001b[97;40m:\u001b[0m\u001b[97;40m \u001b[0m\u001b[40msklearn\u001b[0m\u001b[40m                                                       \u001b[0m\n",
            "\u001b[97;40m  \u001b[0m\u001b[91;40mframework_versions\u001b[0m\u001b[97;40m:\u001b[0m\u001b[40m                                                           \u001b[0m\n",
            "\u001b[97;40m    \u001b[0m\u001b[91;40mscikit-learn\u001b[0m\u001b[97;40m:\u001b[0m\u001b[97;40m \u001b[0m\u001b[40m1.1.1\u001b[0m\u001b[40m                                                         \u001b[0m\n",
            "\u001b[97;40m  \u001b[0m\u001b[91;40mbentoml_version\u001b[0m\u001b[97;40m:\u001b[0m\u001b[97;40m \u001b[0m\u001b[40m1.0.7\u001b[0m\u001b[40m                                                        \u001b[0m\n",
            "\u001b[97;40m  \u001b[0m\u001b[91;40mpython_version\u001b[0m\u001b[97;40m:\u001b[0m\u001b[97;40m \u001b[0m\u001b[40m3.9.12\u001b[0m\u001b[40m                                                        \u001b[0m\n",
            "\u001b[91;40msignatures\u001b[0m\u001b[97;40m:\u001b[0m\u001b[40m                                                                     \u001b[0m\n",
            "\u001b[97;40m  \u001b[0m\u001b[91;40mpredict\u001b[0m\u001b[97;40m:\u001b[0m\u001b[40m                                                                      \u001b[0m\n",
            "\u001b[97;40m    \u001b[0m\u001b[91;40mbatchable\u001b[0m\u001b[97;40m:\u001b[0m\u001b[97;40m \u001b[0m\u001b[40mfalse\u001b[0m\u001b[40m                                                            \u001b[0m\n",
            "\u001b[91;40mapi_version\u001b[0m\u001b[97;40m:\u001b[0m\u001b[97;40m \u001b[0m\u001b[40mv1\u001b[0m\u001b[40m                                                                 \u001b[0m\n",
            "\u001b[91;40mcreation_time\u001b[0m\u001b[97;40m:\u001b[0m\u001b[97;40m \u001b[0m\u001b[93;40m'\u001b[0m\u001b[93;40m2022-10-13T20:42:14.411084+00:00\u001b[0m\u001b[93;40m'\u001b[0m\u001b[40m                               \u001b[0m\n",
            "\u001b[40m                                                                                \u001b[0m\n"
          ]
        }
      ],
      "source": [
        "!bentoml models get mlzoomcamp_homework:qtzdz3slg6mwwdu5"
      ]
    },
    {
      "cell_type": "markdown",
      "metadata": {
        "id": "eCRCaKlSwp7D"
      },
      "source": [
        "- What version of scikit-learn was this model trained with?\n",
        "\n",
        "- Answer: 1.1.1"
      ]
    },
    {
      "cell_type": "markdown",
      "metadata": {
        "id": "BDLbx3N5xAoY"
      },
      "source": [
        "**Question 5**\n",
        "\n",
        "Create a bento out of this scikit-learn model. The output type for this endpoint should be `NumpyNdarray()`\n",
        "\n",
        "Send this array to the Bento:\n",
        "\n",
        "```\n",
        "[[6.4,3.5,4.5,1.2]]\n",
        "```\n",
        "\n",
        "You can use curl or the Swagger UI."
      ]
    },
    {
      "cell_type": "markdown",
      "metadata": {},
      "source": [
        "See [Script](./service.py)"
      ]
    },
    {
      "cell_type": "code",
      "execution_count": 27,
      "metadata": {},
      "outputs": [
        {
          "name": "stdout",
          "output_type": "stream",
          "text": [
            "curl: (7) Failed to connect to localhost port 3000: Connection refused\n"
          ]
        }
      ],
      "source": [
        "!curl -X 'POST' \\\n",
        "  'http://localhost:3000/classify' \\\n",
        "  -H 'accept: application/json' \\\n",
        "  -H 'Content-Type: application/json' \\\n",
        "  -d '[[6.4,3.5,4.5,1.2]]'"
      ]
    },
    {
      "cell_type": "markdown",
      "metadata": {},
      "source": [
        "- What value does it return?\n",
        "\n",
        "- Answer: 1"
      ]
    },
    {
      "cell_type": "markdown",
      "metadata": {},
      "source": [
        "**Question 6**\n",
        "\n",
        "Ensure to serve your bento with `--production` for this question\n",
        "\n",
        "Install locust using:\n",
        "\n",
        "```bash\n",
        "pip install locust\n",
        "```\n",
        "\n",
        "Use the following locust file: [locustfile.py](https://github.com/alexeygrigorev/mlbookcamp-code/blob/master/course-zoomcamp/cohorts/2022/07-bento-production/locustfile.py)\n",
        "\n",
        "Ensure that it is pointed at your bento's endpoint (In case you didn't name your endpoint \"classify\")\n",
        "\n",
        "<img src=\"resources/classify-endpoint.png\">\n",
        "\n",
        "Configure 100 users with ramp time of 10 users per second. Click \"Start Swarming\" and ensure that it is working.\n",
        "\n",
        "Now download a second model with this command:\n",
        "\n",
        "```bash\n",
        "curl -O https://s3.us-west-2.amazonaws.com/bentoml.com/mlzoomcamp/coolmodel2.bentomodel\n",
        "```\n",
        "\n",
        "Or you can download with this link as well:\n",
        "[https://s3.us-west-2.amazonaws.com/bentoml.com/mlzoomcamp/coolmodel2.bentomodel](https://s3.us-west-2.amazonaws.com/bentoml.com/mlzoomcamp/coolmodel2.bentomodel)\n",
        "\n",
        "Now import the model:\n",
        "\n",
        "```bash\n",
        "bentoml models import coolmodel2.bentomodel\n",
        "```\n",
        "\n",
        "Update your bento's runner tag and test with both models. Which model allows more traffic (more throughput) as you ramp up the traffic?\n",
        "\n",
        "**Hint 1**: Remember to turn off and turn on your bento service between changing the model tag. Use Ctl-C to close the service in between trials.\n",
        "\n",
        "**Hint 2**: Increase the number of concurrent users to see which one has higher throughput\n",
        "\n",
        "Which model has better performance at higher volumes?\n",
        "\n",
        "* The first model\n",
        "* The second model\n",
        "\n"
      ]
    },
    {
      "cell_type": "code",
      "execution_count": 28,
      "metadata": {},
      "outputs": [],
      "source": [
        "!pip install locust -q"
      ]
    },
    {
      "cell_type": "markdown",
      "metadata": {},
      "source": [
        "Here we run the first model. Stats:"
      ]
    },
    {
      "cell_type": "markdown",
      "metadata": {},
      "source": [
        "![Model 1 Stats](./First_model.PNG)"
      ]
    },
    {
      "cell_type": "code",
      "execution_count": 29,
      "metadata": {},
      "outputs": [
        {
          "name": "stdout",
          "output_type": "stream",
          "text": [
            "  % Total    % Received % Xferd  Average Speed   Time    Time     Time  Current\n",
            "                                 Dload  Upload   Total   Spent    Left  Speed\n",
            "100  1728  100  1728    0     0   4535      0 --:--:-- --:--:-- --:--:--  4535\n",
            "Error: \u001b[31m[models] `import` failed: Item 'mlzoomcamp_homework:jsi67fslz6txydu5' already exists in the store <osfs '/home/andre/bentoml/models'>\u001b[0m\n"
          ]
        }
      ],
      "source": [
        "!curl -O https://s3.us-west-2.amazonaws.com/bentoml.com/mlzoomcamp/coolmodel2.bentomodel\n",
        "!bentoml models import coolmodel2.bentomodel"
      ]
    },
    {
      "cell_type": "markdown",
      "metadata": {},
      "source": [
        "Here we run the second model. Stats:"
      ]
    },
    {
      "cell_type": "markdown",
      "metadata": {},
      "source": [
        "![Model 1 Stats](./Second_model.PNG)"
      ]
    },
    {
      "cell_type": "markdown",
      "metadata": {},
      "source": [
        "Second model has better latency and lower failure/s.\n",
        "\n",
        "- Which model has better performance at higher volumes?\n",
        "\n",
        "- Answer: The second model"
      ]
    }
  ],
  "metadata": {
    "colab": {
      "provenance": []
    },
    "kernelspec": {
      "display_name": "Python 3.9.12 ('exp-tracking-env')",
      "language": "python",
      "name": "python3"
    },
    "language_info": {
      "codemirror_mode": {
        "name": "ipython",
        "version": 3
      },
      "file_extension": ".py",
      "mimetype": "text/x-python",
      "name": "python",
      "nbconvert_exporter": "python",
      "pygments_lexer": "ipython3",
      "version": "3.9.12"
    },
    "vscode": {
      "interpreter": {
        "hash": "5380a5719b5173b0967bd676da126000398f1602898d455dca59b24a07874c2a"
      }
    }
  },
  "nbformat": 4,
  "nbformat_minor": 0
}
