{
 "cells": [
  {
   "cell_type": "code",
   "execution_count": 1,
   "id": "3fb05700",
   "metadata": {},
   "outputs": [
    {
     "data": {
      "application/javascript": "IPython.notebook.set_autosave_interval(0)"
     },
     "metadata": {},
     "output_type": "display_data"
    },
    {
     "name": "stdout",
     "output_type": "stream",
     "text": [
      "Autosave disabled\n"
     ]
    }
   ],
   "source": [
    "%autosave 0"
   ]
  },
  {
   "cell_type": "markdown",
   "id": "464b9b4a",
   "metadata": {},
   "source": [
    "# 4. Evaluation Metrics for Classification\n",
    "\n",
    "In the previous session we trained a model for predicting churn. How do we know if it's good?\n",
    "- We had an accuracy of 80%. Is this sufficient? Are there other ways we can evaluate the model?\n",
    "\n",
    "## 4.1 Evaluation metrics: session overview \n",
    "\n",
    "* Dataset: https://www.kaggle.com/blastchar/telco-customer-churn\n",
    "* https://raw.githubusercontent.com/alexeygrigorev/mlbookcamp-code/master/chapter-03-churn-prediction/WA_Fn-UseC_-Telco-Customer-Churn.csv\n",
    "\n",
    "\n",
    "*Metric* - function that compares the predictions with the actual values and outputs a single number that tells how good the predictions are"
   ]
  },
  {
   "cell_type": "markdown",
   "id": "db08c04a",
   "metadata": {},
   "source": [
    "Below is just a recap of the last week, loading and preparing the data, then training the model with a decent accuracy of 80%."
   ]
  },
  {
   "cell_type": "code",
   "execution_count": 2,
   "id": "b3ff7c44",
   "metadata": {},
   "outputs": [],
   "source": [
    "import pandas as pd\n",
    "import numpy as np\n",
    "\n",
    "import matplotlib.pyplot as plt"
   ]
  },
  {
   "cell_type": "code",
   "execution_count": 3,
   "id": "ff66e768",
   "metadata": {},
   "outputs": [],
   "source": [
    "from sklearn.model_selection import train_test_split\n",
    "from sklearn.feature_extraction import DictVectorizer\n",
    "from sklearn.linear_model import LogisticRegression"
   ]
  },
  {
   "cell_type": "code",
   "execution_count": 4,
   "id": "20045314",
   "metadata": {},
   "outputs": [],
   "source": [
    "!cp ../03-classification/data-week-3.csv ."
   ]
  },
  {
   "cell_type": "code",
   "execution_count": 5,
   "id": "81ee3ecc",
   "metadata": {},
   "outputs": [],
   "source": [
    "df = pd.read_csv('data-week-3.csv')\n",
    "\n",
    "df.columns = df.columns.str.lower().str.replace(' ', '_')\n",
    "\n",
    "categorical_columns = list(df.dtypes[df.dtypes == 'object'].index)\n",
    "\n",
    "for c in categorical_columns:\n",
    "    df[c] = df[c].str.lower().str.replace(' ', '_')\n",
    "\n",
    "df.totalcharges = pd.to_numeric(df.totalcharges, errors='coerce')\n",
    "df['totalcharges'] = df['totalcharges'].fillna(0)\n",
    "\n",
    "df.churn = (df.churn == 'yes').astype(int)"
   ]
  },
  {
   "cell_type": "code",
   "execution_count": 6,
   "id": "0b1903b3",
   "metadata": {},
   "outputs": [],
   "source": [
    "df_full_train, df_test = train_test_split(df, test_size=0.2, random_state=1)\n",
    "df_train, df_val = train_test_split(df_full_train, test_size=0.25, random_state=1)\n",
    "\n",
    "df_train = df_train.reset_index(drop=True)\n",
    "df_val = df_val.reset_index(drop=True)\n",
    "df_test = df_test.reset_index(drop=True)\n",
    "\n",
    "y_train = df_train.churn.values\n",
    "y_val = df_val.churn.values\n",
    "y_test = df_test.churn.values\n",
    "\n",
    "del df_train['churn']\n",
    "del df_val['churn']\n",
    "del df_test['churn']"
   ]
  },
  {
   "cell_type": "code",
   "execution_count": 7,
   "id": "ab4132a4",
   "metadata": {},
   "outputs": [],
   "source": [
    "numerical = ['tenure', 'monthlycharges', 'totalcharges']\n",
    "\n",
    "categorical = [\n",
    "    'gender',\n",
    "    'seniorcitizen',\n",
    "    'partner',\n",
    "    'dependents',\n",
    "    'phoneservice',\n",
    "    'multiplelines',\n",
    "    'internetservice',\n",
    "    'onlinesecurity',\n",
    "    'onlinebackup',\n",
    "    'deviceprotection',\n",
    "    'techsupport',\n",
    "    'streamingtv',\n",
    "    'streamingmovies',\n",
    "    'contract',\n",
    "    'paperlessbilling',\n",
    "    'paymentmethod',\n",
    "]"
   ]
  },
  {
   "cell_type": "code",
   "execution_count": 8,
   "id": "cc4583b9",
   "metadata": {},
   "outputs": [
    {
     "data": {
      "text/plain": [
       "LogisticRegression()"
      ]
     },
     "execution_count": 8,
     "metadata": {},
     "output_type": "execute_result"
    }
   ],
   "source": [
    "dv = DictVectorizer(sparse=False)\n",
    "\n",
    "train_dict = df_train[categorical + numerical].to_dict(orient='records')\n",
    "X_train = dv.fit_transform(train_dict)\n",
    "\n",
    "model = LogisticRegression()\n",
    "model.fit(X_train, y_train)"
   ]
  },
  {
   "cell_type": "code",
   "execution_count": 9,
   "id": "4ea51f38",
   "metadata": {},
   "outputs": [
    {
     "data": {
      "text/plain": [
       "0.8034066713981547"
      ]
     },
     "execution_count": 9,
     "metadata": {},
     "output_type": "execute_result"
    }
   ],
   "source": [
    "val_dict = df_val[categorical + numerical].to_dict(orient='records')\n",
    "X_val = dv.transform(val_dict)\n",
    "\n",
    "y_pred = model.predict_proba(X_val)[:, 1]\n",
    "churn_decision = (y_pred >= 0.5)\n",
    "(y_val == churn_decision).mean()"
   ]
  },
  {
   "cell_type": "markdown",
   "id": "3d8a7559",
   "metadata": {},
   "source": [
    "## 4.2 Accuracy and dummy model\n",
    "\n",
    "* Evaluate the model on different thresholds\n",
    "* Check the accuracy of dummy baselines\n",
    "\n",
    "Say we have some customers, and we think some are churning.\n",
    "- We predict 4 will not churn and 2 will churn\n",
    "- It turns out 2 of the 4 that will not churn did churn, and 1 of the ones that will churn did not\n",
    "- This means we made 3 correct decisions\n",
    "- Our **accuracy** is 3/6, or 50%.\n",
    "\n",
    "**Accuracy:** the fraction of *correct* decisions"
   ]
  },
  {
   "cell_type": "markdown",
   "id": "bcb0d33e",
   "metadata": {},
   "source": [
    "Amount of customers:"
   ]
  },
  {
   "cell_type": "code",
   "execution_count": 10,
   "id": "948eda88",
   "metadata": {},
   "outputs": [
    {
     "data": {
      "text/plain": [
       "1409"
      ]
     },
     "execution_count": 10,
     "metadata": {},
     "output_type": "execute_result"
    }
   ],
   "source": [
    "len(y_val)"
   ]
  },
  {
   "cell_type": "markdown",
   "id": "af38a5e7",
   "metadata": {},
   "source": [
    "For all of these customers, we make a prediction. We assign a probability of 0.0 to 1.0 of the likelihood they will churn. Then, we make a decision.\n",
    "- If the score is >= 0.5, we classify them as churning. Otherwise, not churning."
   ]
  },
  {
   "cell_type": "markdown",
   "id": "cc1f2498",
   "metadata": {},
   "source": [
    "The mean of the predictions compared to the validation dataset labels will give us our accuracy:"
   ]
  },
  {
   "cell_type": "code",
   "execution_count": 11,
   "id": "fc59dff6",
   "metadata": {},
   "outputs": [
    {
     "data": {
      "text/plain": [
       "0.8034066713981547"
      ]
     },
     "execution_count": 11,
     "metadata": {},
     "output_type": "execute_result"
    }
   ],
   "source": [
    "(y_val == churn_decision).mean()"
   ]
  },
  {
   "cell_type": "markdown",
   "id": "a271e268",
   "metadata": {},
   "source": [
    "We have an accuracy of ~80%, meaning we have about 1132 correct predictions:"
   ]
  },
  {
   "cell_type": "code",
   "execution_count": 12,
   "id": "6bcb4def",
   "metadata": {},
   "outputs": [
    {
     "data": {
      "text/plain": [
       "0.8034066713981547"
      ]
     },
     "execution_count": 12,
     "metadata": {},
     "output_type": "execute_result"
    }
   ],
   "source": [
    "1132/ 1409"
   ]
  },
  {
   "cell_type": "markdown",
   "id": "077ae71a",
   "metadata": {},
   "source": [
    "We used 0.5 as a decision threshold, but is this actually good? We can try moving this decision threshold.\n",
    "- Instead of 0.5, we can set it to 0.3 or 0.6 and see if it improves our accuracy"
   ]
  },
  {
   "cell_type": "markdown",
   "id": "e92fea10",
   "metadata": {},
   "source": [
    "To do this, we can use a use the accuracy score function from scikit-learn. Likely implemented the same way we do it."
   ]
  },
  {
   "cell_type": "code",
   "execution_count": 13,
   "id": "adf1012b",
   "metadata": {},
   "outputs": [],
   "source": [
    "from sklearn.metrics import accuracy_score"
   ]
  },
  {
   "cell_type": "markdown",
   "id": "52b06771",
   "metadata": {},
   "source": [
    "Example with the 0.5 decision boundary:"
   ]
  },
  {
   "cell_type": "code",
   "execution_count": 14,
   "id": "ffb75fc5",
   "metadata": {},
   "outputs": [
    {
     "data": {
      "text/plain": [
       "0.8034066713981547"
      ]
     },
     "execution_count": 14,
     "metadata": {},
     "output_type": "execute_result"
    }
   ],
   "source": [
    "accuracy_score(y_val, y_pred >= 0.5)"
   ]
  },
  {
   "cell_type": "markdown",
   "id": "0175d219",
   "metadata": {},
   "source": [
    "We can generate many different thresholds between 0 and 1 and see the accuracy for all of them:"
   ]
  },
  {
   "cell_type": "code",
   "execution_count": 15,
   "id": "27840301",
   "metadata": {},
   "outputs": [
    {
     "name": "stdout",
     "output_type": "stream",
     "text": [
      "Acccuracy Scores by Threshold\n",
      "-----------------------------\n",
      "t: 0.00 accuracy: 0.274\n",
      "t: 0.05 accuracy: 0.509\n",
      "t: 0.10 accuracy: 0.591\n",
      "t: 0.15 accuracy: 0.666\n",
      "t: 0.20 accuracy: 0.710\n",
      "t: 0.25 accuracy: 0.739\n",
      "t: 0.30 accuracy: 0.760\n",
      "t: 0.35 accuracy: 0.772\n",
      "t: 0.40 accuracy: 0.785\n",
      "t: 0.45 accuracy: 0.793\n",
      "t: 0.50 accuracy: 0.803\n",
      "t: 0.55 accuracy: 0.801\n",
      "t: 0.60 accuracy: 0.795\n",
      "t: 0.65 accuracy: 0.786\n",
      "t: 0.70 accuracy: 0.766\n",
      "t: 0.75 accuracy: 0.744\n",
      "t: 0.80 accuracy: 0.735\n",
      "t: 0.85 accuracy: 0.726\n",
      "t: 0.90 accuracy: 0.726\n",
      "t: 0.95 accuracy: 0.726\n",
      "t: 1.00 accuracy: 0.726\n"
     ]
    }
   ],
   "source": [
    "# Creates 21 values equally spaced between 0 and 1 inclusive\n",
    "thresholds = np.linspace(0, 1, 21)\n",
    "\n",
    "scores = []\n",
    "\n",
    "print(\"Acccuracy Scores by Threshold\")\n",
    "print(\"-----------------------------\")\n",
    "# Get the accuracy for each thrshold\n",
    "for t in thresholds:\n",
    "    # Use accuracy with decision boundary t from thresholds\n",
    "    score = accuracy_score(y_val, y_pred >= t)\n",
    "    print('t: %.2f accuracy: %.3f' % (t, score))\n",
    "    scores.append(score)"
   ]
  },
  {
   "cell_type": "markdown",
   "id": "6d2dcd25",
   "metadata": {},
   "source": [
    "We can see the decision threshold of 0.5 is actually the most accurate. However what is most interesting is the accuracy at *t*=0.0 and *t*=1.0\n",
    "\n",
    "We can also plot this to make this easier to understand:"
   ]
  },
  {
   "cell_type": "code",
   "execution_count": 16,
   "id": "11f492a8",
   "metadata": {},
   "outputs": [
    {
     "data": {
      "text/plain": [
       "[<matplotlib.lines.Line2D at 0x7f23a478c610>]"
      ]
     },
     "execution_count": 16,
     "metadata": {},
     "output_type": "execute_result"
    },
    {
     "data": {
      "image/png": "[encoded data removed]",
      "text/plain": [
       "<Figure size 900x600 with 1 Axes>"
      ]
     },
     "metadata": {
      "needs_background": "light"
     },
     "output_type": "display_data"
    }
   ],
   "source": [
    "plt.figure(dpi=150)\n",
    "plt.plot(thresholds, scores)"
   ]
  },
  {
   "cell_type": "markdown",
   "id": "3b56274a",
   "metadata": {},
   "source": [
    "This is reflected in the graph, as the highest value is right over our 0.5 threshold.\n",
    "- It is this a coincidence. While logistic regression tries to work such that 0.5 is the most accurate threshold, this is not always the case."
   ]
  },
  {
   "cell_type": "markdown",
   "id": "051594d2",
   "metadata": {},
   "source": [
    "For *t* = 1.0, we say customers are churning if the score >= 1.0. This means every customer is non-churning, as there no values >= 1.0 here.\n",
    "\n",
    "To show this, we can use a Counter, from collections, to see how many values are True and False"
   ]
  },
  {
   "cell_type": "code",
   "execution_count": 17,
   "id": "174b048b",
   "metadata": {},
   "outputs": [],
   "source": [
    "from collections import Counter"
   ]
  },
  {
   "cell_type": "code",
   "execution_count": 18,
   "id": "e0897055",
   "metadata": {},
   "outputs": [
    {
     "data": {
      "text/plain": [
       "Counter({False: 1409})"
      ]
     },
     "execution_count": 18,
     "metadata": {},
     "output_type": "execute_result"
    }
   ],
   "source": [
    "Counter(y_pred >= 1.0)"
   ]
  },
  {
   "cell_type": "markdown",
   "id": "9dee0755",
   "metadata": {},
   "source": [
    "The counter only found False values. This predicts no churn for every customer. Notably, the accuracy is fairly decent: 72.6%.\n",
    "\n",
    "Why bother with our model at 80% accuracy if it only improves from the dummy model by 7%?\n",
    "\n",
    "This is the **main issue with accuracy**, inability to handle class imbalance. If we look at the distribution of y_val, we can see there are a lot more non-churning users than churning users:"
   ]
  },
  {
   "cell_type": "code",
   "execution_count": 19,
   "id": "a4e3cf1e",
   "metadata": {},
   "outputs": [
    {
     "data": {
      "text/plain": [
       "Counter({0: 1023, 1: 386})"
      ]
     },
     "execution_count": 19,
     "metadata": {},
     "output_type": "execute_result"
    }
   ],
   "source": [
    "Counter(y_val)"
   ]
  },
  {
   "cell_type": "code",
   "execution_count": 20,
   "id": "8b8ece7e",
   "metadata": {},
   "outputs": [
    {
     "data": {
      "text/plain": [
       "0.7260468417317246"
      ]
     },
     "execution_count": 20,
     "metadata": {},
     "output_type": "execute_result"
    }
   ],
   "source": [
    "1 - y_val.mean()"
   ]
  },
  {
   "cell_type": "markdown",
   "id": "f62fee8a",
   "metadata": {},
   "source": [
    "This means 72.6% are non-churning. \n",
    "\n",
    "This dummy model says every user will not churn, and this will only be incorrect when a user does churn.\n",
    "- It will be correct in ~73% of cases for non-churning users\n",
    "- It will make a mistake for ~27% of cases, the people who are churning."
   ]
  },
  {
   "cell_type": "markdown",
   "id": "b5dad5ca",
   "metadata": {},
   "source": [
    "This is **class imbalance**, as we have around 3x more customers not churning than churning.\n",
    "- In these situations accuracy is not as useful\n",
    "- There are other ways to evaluate binary classification models that are more useful in cases of class imbalance"
   ]
  },
  {
   "cell_type": "markdown",
   "id": "b1600912",
   "metadata": {},
   "source": [
    "## 4.3 Confusion table\n",
    "\n",
    "* Different types of errors and correct decisions\n",
    "* Arranging them in a table"
   ]
  },
  {
   "cell_type": "markdown",
   "id": "1f2d4971",
   "metadata": {},
   "source": [
    "Confusion tables are useful to see the true positives, true negatives, false positives and false negatives. These allow more specific insights than just accuracy.\n",
    "- Confusion tables also provide a way of evaluating a model more thoughtfully when there is class imbalance"
   ]
  },
  {
   "cell_type": "markdown",
   "id": "421bf667",
   "metadata": {},
   "source": [
    "Given a decision threshold *t*, we predict churn or no churn based on *t*.\n",
    "- Among negative classifications, ultimately the customer did or did not churn.\n",
    "    - If they did not churn, that is correct. This is a **true negative** classification.\n",
    "    - If they did churn, this is incorrect. This is a **false negative** classification\n",
    "- Among positive classifications:\n",
    "    - If they did not churn, that is incorrect. This is a **false positive** classification\n",
    "    - If they did churn, this is correct. This is a **true positive** classification"
   ]
  },
  {
   "cell_type": "markdown",
   "id": "65d3939b",
   "metadata": {},
   "source": [
    "<img src=\"images/4.3-confusion-possibilities.png\" alt=\"drawing\" width=\"1200\"/>\n",
    "\n",
    "*Images from https://www.youtube.com/watch?v=Jt2dDLSlBng&list=PL3MmuxUbc_hIhxl5Ji8t4O6lPAOpHaCLR&index=42*"
   ]
  },
  {
   "cell_type": "markdown",
   "id": "b642d71b",
   "metadata": {},
   "source": [
    "To look closer at the confision values, we need to look at where they come from.\n",
    "- The left circle represents the actual labels. These are churn or not churn\n",
    "    - This includes TN and FN on the bottom circle.\n",
    "- The right circle represents the predicted labels. These are based on a decision boundary line in green\n",
    "    - This represents TP and FP on the bottom circle"
   ]
  },
  {
   "cell_type": "markdown",
   "id": "c796035c",
   "metadata": {},
   "source": [
    "![Confusion Pie Graph](images/4.3-confusion-pie-graph.png)\n",
    "\n",
    "In the graph we can see two correct areas: true negative (left) and true positive (right). Here the predicted value and decision boundary lead to the correct label.\n",
    "- The upper red slice is False Positive, these were predicted as true but were actually false.\n",
    "    - We want to minimize false positives if mislabelling positive is unwanted\n",
    "        - E.g. sending promotions to customers who might not churn is costly\n",
    "- The lower red slice if False Negative, these were predicted as false but were actually true\n",
    "    - We want to minimize false negatives if we would rather more true predictions\n",
    "        - E.g. testing everyone at risk for a dangerous disease when the test is not costly or invasive"
   ]
  },
  {
   "cell_type": "markdown",
   "id": "0259060e",
   "metadata": {},
   "source": [
    "Let's take a look at the actual labels"
   ]
  },
  {
   "cell_type": "code",
   "execution_count": 21,
   "id": "501711e7",
   "metadata": {},
   "outputs": [],
   "source": [
    "# Let's look at people who are actual churning or not\n",
    "actual_positive = (y_val == 1)  # Array for each example, True when customer will churn\n",
    "actual_negative = (y_val == 0)      # Same; True when customer will not churn"
   ]
  },
  {
   "cell_type": "markdown",
   "id": "726033ac",
   "metadata": {},
   "source": [
    "Now let's look at our predicted labels and decision boundary"
   ]
  },
  {
   "cell_type": "code",
   "execution_count": 22,
   "id": "d898b9ff",
   "metadata": {},
   "outputs": [],
   "source": [
    "t = 0.5 # Decision threshold\n",
    "predict_positive = (y_pred >= t) # Same array setup; chooses based on >= or < decision boundary\n",
    "predict_negative = (y_pred < t)"
   ]
  },
  {
   "cell_type": "markdown",
   "id": "9dc68edb",
   "metadata": {},
   "source": [
    "Let's compare the positive labels"
   ]
  },
  {
   "cell_type": "code",
   "execution_count": 23,
   "id": "0a798b67",
   "metadata": {},
   "outputs": [
    {
     "name": "stdout",
     "output_type": "stream",
     "text": [
      "[False False False  True False]\n",
      "[False False False  True False]\n"
     ]
    }
   ],
   "source": [
    "print(predict_positive[:5])\n",
    "print(actual_positive[:5])"
   ]
  },
  {
   "cell_type": "markdown",
   "id": "b30fd7b4",
   "metadata": {},
   "source": [
    "To get True Positives, we need to find where both the predicted and actual positive labels are both True. We can use the **logical &** operator"
   ]
  },
  {
   "cell_type": "code",
   "execution_count": 24,
   "id": "9f04889f",
   "metadata": {},
   "outputs": [
    {
     "data": {
      "text/plain": [
       "array([False, False, False,  True, False])"
      ]
     },
     "execution_count": 24,
     "metadata": {},
     "output_type": "execute_result"
    }
   ],
   "source": [
    "predict_positive[:5] & actual_positive[:5] # Automatically done elementwise"
   ]
  },
  {
   "cell_type": "markdown",
   "id": "04029fcd",
   "metadata": {},
   "source": [
    "We can do this with the rest of the values"
   ]
  },
  {
   "cell_type": "code",
   "execution_count": 25,
   "id": "ce46cfef",
   "metadata": {},
   "outputs": [],
   "source": [
    "tp = (predict_positive & actual_positive).sum() # True positive is when the the positive is actually positive\n",
    "tn = (predict_negative & actual_negative).sum() # True negative is when the negative is actually negative\n",
    "\n",
    "fp = (predict_positive & actual_negative).sum() # False positive is when the predicted positive label is actually negative\n",
    "fn = (predict_negative & actual_positive).sum() # False negative is when the predicted negative label is actually positive"
   ]
  },
  {
   "cell_type": "markdown",
   "id": "f894c554",
   "metadata": {},
   "source": [
    "Let's introduce the **Confusion Table**. This is a 2x2 table of counts with predicted labels on one axis and actual labels on the other.\n",
    "\n",
    "![Confusion Matrix](images/4.3-confusion-matrix.png)"
   ]
  },
  {
   "cell_type": "code",
   "execution_count": 26,
   "id": "778f4ef6",
   "metadata": {},
   "outputs": [
    {
     "data": {
      "text/plain": [
       "array([[922, 101],\n",
       "       [176, 210]])"
      ]
     },
     "execution_count": 26,
     "metadata": {},
     "output_type": "execute_result"
    }
   ],
   "source": [
    "confusion_matrix = np.array([\n",
    "    [tn, fp],\n",
    "    [fn, tp]\n",
    "])\n",
    "confusion_matrix"
   ]
  },
  {
   "cell_type": "markdown",
   "id": "e1d47e70",
   "metadata": {},
   "source": [
    "Thus:\n",
    "- 922 TN's\n",
    "- 176 FN's\n",
    "- 101 FP's\n",
    "- 210 TP's\n",
    "\n",
    "We lose some money for the 101 FPs (~32% of emails) as we give promotions to people who would not unsubscribe, and for the 176 FN's (~16% of no email group) as we do not retain these customers"
   ]
  },
  {
   "cell_type": "markdown",
   "id": "a5ffa23e",
   "metadata": {},
   "source": [
    "We can also normalize this. Instead of absolute numbers we can use percents"
   ]
  },
  {
   "cell_type": "code",
   "execution_count": 27,
   "id": "4a7aab64",
   "metadata": {},
   "outputs": [
    {
     "data": {
      "text/plain": [
       "array([[0.65, 0.07],\n",
       "       [0.12, 0.15]])"
      ]
     },
     "execution_count": 27,
     "metadata": {},
     "output_type": "execute_result"
    }
   ],
   "source": [
    "(confusion_matrix / confusion_matrix.sum()).round(2)"
   ]
  },
  {
   "cell_type": "markdown",
   "id": "d0406376",
   "metadata": {},
   "source": [
    "65% and 15% correct, 12% and 8% incorrect.\n",
    "\n",
    "Accuracy is 80% = 65% + 15%"
   ]
  },
  {
   "cell_type": "markdown",
   "id": "63e6e835",
   "metadata": {},
   "source": [
    "Recap:\n",
    "- Can get more specific values than accuracy\n",
    "- Give more fine-grained insight, especially with class imbalance"
   ]
  },
  {
   "cell_type": "markdown",
   "id": "a37b1d4c",
   "metadata": {},
   "source": [
    "## 4.4 Precision and Recall\n",
    "\n",
    "*Images from https://www.youtube.com/watch?v=gRLP_mlglMM&list=PL3MmuxUbc_hIhxl5Ji8t4O6lPAOpHaCLR&index=43*\n",
    "\n",
    "- Intuition behind Precision and Recall\n",
    "- Implementation"
   ]
  },
  {
   "cell_type": "markdown",
   "id": "28557525",
   "metadata": {},
   "source": [
    "Let's look at Precision and Recall, some metrics we can gather from TP, FP, TN and FN."
   ]
  },
  {
   "cell_type": "code",
   "execution_count": 28,
   "id": "c16c4dc8",
   "metadata": {},
   "outputs": [
    {
     "data": {
      "text/plain": [
       "0.8034066713981547"
      ]
     },
     "execution_count": 28,
     "metadata": {},
     "output_type": "execute_result"
    }
   ],
   "source": [
    "# We can express accuracy as:\n",
    "acc = (tp + tn) / (tp + tn + fp + fn)\n",
    "acc"
   ]
  },
  {
   "cell_type": "markdown",
   "id": "f2d47f66",
   "metadata": {},
   "source": [
    "There are more metrics we can gather from these though.\n",
    "\n",
    "**Precision**: The fraction of positive predictions that are correct. \n",
    "\n",
    "![Precision pie](images/4.4-precision.png)\n",
    "\n",
    "We are only interested in the red slice on the right, which are all positive predictions. The green subset, TP, as a fraction of the entire red slice is the precision.\n",
    "\n",
    "Precision = $ {TP \\over FP + TP} $"
   ]
  },
  {
   "cell_type": "code",
   "execution_count": 29,
   "id": "7dfcf399",
   "metadata": {},
   "outputs": [
    {
     "data": {
      "text/plain": [
       "0.6752411575562701"
      ]
     },
     "execution_count": 29,
     "metadata": {},
     "output_type": "execute_result"
    }
   ],
   "source": [
    "p = tp / (tp + fp)\n",
    "p"
   ]
  },
  {
   "cell_type": "markdown",
   "id": "6df99c01",
   "metadata": {},
   "source": [
    "Thus our Precision is ~68%. This means about ~32% of emails were sent in error."
   ]
  },
  {
   "cell_type": "markdown",
   "id": "379dab97",
   "metadata": {},
   "source": [
    "**Recall:** The fraction of correctly identified positive examples \n",
    "\n",
    "<img src=\"images/4.4-recall.png\" alt=\"Recall\" width=\"1200\"/>\n",
    "\n",
    "In the black slice on the right, we have all positive predictions. The green subset, TP, as a fraction of the black slice is the recall. \n",
    "\n",
    "Recall = $ {TP \\over TP + FN} $"
   ]
  },
  {
   "cell_type": "code",
   "execution_count": 30,
   "id": "4e180eec",
   "metadata": {},
   "outputs": [
    {
     "data": {
      "text/plain": [
       "0.5440414507772021"
      ]
     },
     "execution_count": 30,
     "metadata": {},
     "output_type": "execute_result"
    }
   ],
   "source": [
    "r = tp / (tp + fn)\n",
    "r"
   ]
  },
  {
   "cell_type": "markdown",
   "id": "37878880",
   "metadata": {},
   "source": [
    "Thus our Recall is ~54%. This means about ~46% of users about to churn were missed."
   ]
  },
  {
   "cell_type": "markdown",
   "id": "088f4639",
   "metadata": {},
   "source": [
    "Recall our accuracy: 80%. It makes our model seem very useful at a glance, but our Precision and Recall were low.\n",
    "- Sent 33% of promotional emails in error \n",
    "- Missed ~46% of of users about to churn.\n",
    "\n",
    "80% accuracy is misleading. Precision and Recall help for problems with imbalanced classes."
   ]
  },
  {
   "cell_type": "markdown",
   "id": "14c00f41",
   "metadata": {},
   "source": [
    "Recap:\n",
    "- Precision: Fraction of predicted positive labels that were actually correct (TP/TP+FN)\n",
    "- Recall: Fraction of actual positive labels that we successfully predicted. (TP/TP+FP)"
   ]
  },
  {
   "cell_type": "markdown",
   "id": "5088b30e",
   "metadata": {},
   "source": [
    "## 4.5 ROC Curves\n",
    "\n",
    "*Images from https://www.youtube.com/watch?v=dnBZLk53sQI&list=PL3MmuxUbc_hIhxl5Ji8t4O6lPAOpHaCLR&index=44*\n",
    "\n",
    "- Receiver Operating Characteristics (ROC) Curve\n",
    "- True Positive Rate (TPR) and False Positive Rate (FRP)"
   ]
  },
  {
   "cell_type": "markdown",
   "id": "746ea172",
   "metadata": {},
   "source": [
    "ROC was originally developed in WWII to evaluate the strength of radar plane detectors.\n",
    "- Can think of this as an ML problem. If y=1, there is a plane, if y=0, there is not a plane\n",
    "- The features (*X*) are the signals from the radar\n",
    "\n",
    "We are interested in two numbers here: TPR and FPR. Both are computed from the confusion matrix.\n",
    "\n",
    "<img src=\"images/4.5-confusion-matrix.png\" alt=\"Confusion Matrix\" width=\"1200\"/>\n",
    "\n",
    "The False Positive rate is the entire top row, the True Positive Rate is the entire second row.\n",
    "\n",
    "FPR = $ {FP \\over TN + FP} $\n",
    "\n",
    "TPR = $ {TP \\over FN + TP} $"
   ]
  },
  {
   "cell_type": "markdown",
   "id": "8594adb5",
   "metadata": {},
   "source": [
    "Expressed with pie charts, we see:\n",
    "- FPR is the fraction of FPs over all actual negative values\n",
    "- TPR is the fraction of TPs over all actual positive values\n",
    "\n",
    "\n",
    "<img src=\"images/4.5-FPRTPR-ovals.png\" alt=\"Confusion Matrix\" width=\"1200\"/>\n",
    "\n",
    "- To minimize FPR we must minimize FP\n",
    "- To maximize TPR, we must maximize TP."
   ]
  },
  {
   "cell_type": "markdown",
   "id": "6d047ca7",
   "metadata": {},
   "source": [
    "Computing TPR and FPR:"
   ]
  },
  {
   "cell_type": "code",
   "execution_count": 31,
   "id": "f8b9350d",
   "metadata": {},
   "outputs": [
    {
     "data": {
      "text/plain": [
       "0.5440414507772021"
      ]
     },
     "execution_count": 31,
     "metadata": {},
     "output_type": "execute_result"
    }
   ],
   "source": [
    "tpr = tp / (tp + fn)\n",
    "tpr"
   ]
  },
  {
   "cell_type": "markdown",
   "id": "08637945",
   "metadata": {},
   "source": [
    "Notice is that TPR is the same as Recall."
   ]
  },
  {
   "cell_type": "code",
   "execution_count": 32,
   "id": "0a8b418e",
   "metadata": {},
   "outputs": [
    {
     "data": {
      "text/plain": [
       "0.09872922776148582"
      ]
     },
     "execution_count": 32,
     "metadata": {},
     "output_type": "execute_result"
    }
   ],
   "source": [
    "fpr = fp / (fp + tn)\n",
    "fpr"
   ]
  },
  {
   "cell_type": "markdown",
   "id": "de3c7096",
   "metadata": {},
   "source": [
    "What we actually need to do, and what ROC curves are actually useful for, is to examine TPR and FPR for all possible decision boundaries."
   ]
  },
  {
   "cell_type": "code",
   "execution_count": 33,
   "id": "fc8e1021",
   "metadata": {},
   "outputs": [],
   "source": [
    "scores = []\n",
    "\n",
    "thresholds = np.linspace(0, 1, 101) # Generated 101 steps from [0, 1] at 0.01 intervals\n",
    "\n",
    "# For every possible decision boundary, check TP, TN, FP, and FN\n",
    "for t in thresholds:\n",
    "    # Computing the confusion matrix\n",
    "    actual_positive = (y_val == 1)\n",
    "    actual_negative = (y_val == 0)\n",
    "    \n",
    "    predict_positive = (y_pred >= t)\n",
    "    predict_negative = (y_pred < t)\n",
    "\n",
    "    # Calculate each value and add to list\n",
    "    tp = (predict_positive & actual_positive).sum()\n",
    "    tn = (predict_negative & actual_negative).sum()\n",
    "\n",
    "    fp = (predict_positive & actual_negative).sum()\n",
    "    fn = (predict_negative & actual_positive).sum()\n",
    "    \n",
    "    scores.append((t, tp, fp, fn, tn))"
   ]
  },
  {
   "cell_type": "markdown",
   "id": "beef877e",
   "metadata": {},
   "source": [
    "Turn this into a DataFrame to easily produce TPR and FPR:"
   ]
  },
  {
   "cell_type": "code",
   "execution_count": 34,
   "id": "76beba9a",
   "metadata": {},
   "outputs": [],
   "source": [
    "columns = ['threshold', 'tp', 'fp', 'fn', 'tn']\n",
    "df_scores = pd.DataFrame(scores, columns=columns)\n",
    "\n",
    "df_scores['tpr'] = df_scores.tp / (df_scores.tp + df_scores.fn)\n",
    "df_scores['fpr'] = df_scores.fp / (df_scores.fp + df_scores.tn)"
   ]
  },
  {
   "cell_type": "markdown",
   "id": "84b08653",
   "metadata": {},
   "source": [
    "Let's look at every 10th value:"
   ]
  },
  {
   "cell_type": "code",
   "execution_count": 35,
   "id": "59971909",
   "metadata": {},
   "outputs": [
    {
     "data": {
      "text/html": [
       "<div>\n",
       "<style scoped>\n",
       "    .dataframe tbody tr th:only-of-type {\n",
       "        vertical-align: middle;\n",
       "    }\n",
       "\n",
       "    .dataframe tbody tr th {\n",
       "        vertical-align: top;\n",
       "    }\n",
       "\n",
       "    .dataframe thead th {\n",
       "        text-align: right;\n",
       "    }\n",
       "</style>\n",
       "<table border=\"1\" class=\"dataframe\">\n",
       "  <thead>\n",
       "    <tr style=\"text-align: right;\">\n",
       "      <th></th>\n",
       "      <th>threshold</th>\n",
       "      <th>tp</th>\n",
       "      <th>fp</th>\n",
       "      <th>fn</th>\n",
       "      <th>tn</th>\n",
       "      <th>tpr</th>\n",
       "      <th>fpr</th>\n",
       "    </tr>\n",
       "  </thead>\n",
       "  <tbody>\n",
       "    <tr>\n",
       "      <th>0</th>\n",
       "      <td>0.0</td>\n",
       "      <td>386</td>\n",
       "      <td>1023</td>\n",
       "      <td>0</td>\n",
       "      <td>0</td>\n",
       "      <td>1.000000</td>\n",
       "      <td>1.000000</td>\n",
       "    </tr>\n",
       "    <tr>\n",
       "      <th>10</th>\n",
       "      <td>0.1</td>\n",
       "      <td>366</td>\n",
       "      <td>556</td>\n",
       "      <td>20</td>\n",
       "      <td>467</td>\n",
       "      <td>0.948187</td>\n",
       "      <td>0.543500</td>\n",
       "    </tr>\n",
       "    <tr>\n",
       "      <th>20</th>\n",
       "      <td>0.2</td>\n",
       "      <td>333</td>\n",
       "      <td>356</td>\n",
       "      <td>53</td>\n",
       "      <td>667</td>\n",
       "      <td>0.862694</td>\n",
       "      <td>0.347996</td>\n",
       "    </tr>\n",
       "    <tr>\n",
       "      <th>30</th>\n",
       "      <td>0.3</td>\n",
       "      <td>284</td>\n",
       "      <td>236</td>\n",
       "      <td>102</td>\n",
       "      <td>787</td>\n",
       "      <td>0.735751</td>\n",
       "      <td>0.230694</td>\n",
       "    </tr>\n",
       "    <tr>\n",
       "      <th>40</th>\n",
       "      <td>0.4</td>\n",
       "      <td>249</td>\n",
       "      <td>166</td>\n",
       "      <td>137</td>\n",
       "      <td>857</td>\n",
       "      <td>0.645078</td>\n",
       "      <td>0.162268</td>\n",
       "    </tr>\n",
       "    <tr>\n",
       "      <th>50</th>\n",
       "      <td>0.5</td>\n",
       "      <td>210</td>\n",
       "      <td>101</td>\n",
       "      <td>176</td>\n",
       "      <td>922</td>\n",
       "      <td>0.544041</td>\n",
       "      <td>0.098729</td>\n",
       "    </tr>\n",
       "    <tr>\n",
       "      <th>60</th>\n",
       "      <td>0.6</td>\n",
       "      <td>150</td>\n",
       "      <td>53</td>\n",
       "      <td>236</td>\n",
       "      <td>970</td>\n",
       "      <td>0.388601</td>\n",
       "      <td>0.051808</td>\n",
       "    </tr>\n",
       "    <tr>\n",
       "      <th>70</th>\n",
       "      <td>0.7</td>\n",
       "      <td>76</td>\n",
       "      <td>20</td>\n",
       "      <td>310</td>\n",
       "      <td>1003</td>\n",
       "      <td>0.196891</td>\n",
       "      <td>0.019550</td>\n",
       "    </tr>\n",
       "    <tr>\n",
       "      <th>80</th>\n",
       "      <td>0.8</td>\n",
       "      <td>13</td>\n",
       "      <td>1</td>\n",
       "      <td>373</td>\n",
       "      <td>1022</td>\n",
       "      <td>0.033679</td>\n",
       "      <td>0.000978</td>\n",
       "    </tr>\n",
       "    <tr>\n",
       "      <th>90</th>\n",
       "      <td>0.9</td>\n",
       "      <td>0</td>\n",
       "      <td>0</td>\n",
       "      <td>386</td>\n",
       "      <td>1023</td>\n",
       "      <td>0.000000</td>\n",
       "      <td>0.000000</td>\n",
       "    </tr>\n",
       "    <tr>\n",
       "      <th>100</th>\n",
       "      <td>1.0</td>\n",
       "      <td>0</td>\n",
       "      <td>0</td>\n",
       "      <td>386</td>\n",
       "      <td>1023</td>\n",
       "      <td>0.000000</td>\n",
       "      <td>0.000000</td>\n",
       "    </tr>\n",
       "  </tbody>\n",
       "</table>\n",
       "</div>"
      ],
      "text/plain": [
       "     threshold   tp    fp   fn    tn       tpr       fpr\n",
       "0          0.0  386  1023    0     0  1.000000  1.000000\n",
       "10         0.1  366   556   20   467  0.948187  0.543500\n",
       "20         0.2  333   356   53   667  0.862694  0.347996\n",
       "30         0.3  284   236  102   787  0.735751  0.230694\n",
       "40         0.4  249   166  137   857  0.645078  0.162268\n",
       "50         0.5  210   101  176   922  0.544041  0.098729\n",
       "60         0.6  150    53  236   970  0.388601  0.051808\n",
       "70         0.7   76    20  310  1003  0.196891  0.019550\n",
       "80         0.8   13     1  373  1022  0.033679  0.000978\n",
       "90         0.9    0     0  386  1023  0.000000  0.000000\n",
       "100        1.0    0     0  386  1023  0.000000  0.000000"
      ]
     },
     "execution_count": 35,
     "metadata": {},
     "output_type": "execute_result"
    }
   ],
   "source": [
    "df_scores[::10]"
   ]
  },
  {
   "cell_type": "markdown",
   "id": "33f9eb1e",
   "metadata": {},
   "source": [
    "Both TPR and FPR are decreasing, but FPR is decreasing faster."
   ]
  },
  {
   "cell_type": "markdown",
   "id": "b8bfcbd1",
   "metadata": {},
   "source": [
    "Plot the TPR and FPR values along all possible thresholds:"
   ]
  },
  {
   "cell_type": "code",
   "execution_count": 36,
   "id": "e125f2fe",
   "metadata": {},
   "outputs": [
    {
     "data": {
      "text/plain": [
       "<matplotlib.legend.Legend at 0x7f23a4912070>"
      ]
     },
     "execution_count": 36,
     "metadata": {},
     "output_type": "execute_result"
    },
    {
     "data": {
      "image/png": "[encoded data removed]",
      "text/plain": [
       "<Figure size 900x600 with 1 Axes>"
      ]
     },
     "metadata": {
      "needs_background": "light"
     },
     "output_type": "display_data"
    }
   ],
   "source": [
    "plt.figure(dpi=150)\n",
    "plt.plot(df_scores.threshold, df_scores['tpr'], label='TPR')\n",
    "plt.plot(df_scores.threshold, df_scores['fpr'], label='FPR')\n",
    "plt.legend()"
   ]
  },
  {
   "cell_type": "markdown",
   "id": "af3704eb",
   "metadata": {},
   "source": [
    "x-axis is the threshold, y-axis is the rate.\n",
    "- For threshold of 0.0, both TPR and FPR are 1, predicting everyone as churning\n",
    "    - TPR is 100% because for all churning customers, they are all identified currectly\n",
    "    - FPR is 100% because for all non-churning customers because we all incorrectly identify as churning\n",
    "- FPR lowers faster, and we want it to as we want few false positives\n",
    "- TPR lowers fairly quickly but we want this to be has high as possible.\n",
    "\n",
    "What if we want to compare at a different point, say 0.5? This is not enough information here."
   ]
  },
  {
   "cell_type": "markdown",
   "id": "f09dc644",
   "metadata": {},
   "source": [
    "### Random model\n",
    "\n",
    "We can produce a random model as a **baseline**. For each customer we can essentially flip a coin"
   ]
  },
  {
   "cell_type": "code",
   "execution_count": 37,
   "id": "b3a4b466",
   "metadata": {},
   "outputs": [
    {
     "data": {
      "text/plain": [
       "array([4.17022005e-01, 7.20324493e-01, 1.14374817e-04, ...,\n",
       "       7.73916250e-01, 3.34276405e-01, 8.89982208e-02])"
      ]
     },
     "execution_count": 37,
     "metadata": {},
     "output_type": "execute_result"
    }
   ],
   "source": [
    "# Flip coin by randomly picking from 0 to 1\n",
    "np.random.seed(1)\n",
    "y_rand = np.random.uniform(0, 1, size=len(y_val)) # Uniform distribution with len(y_val) samples\n",
    "y_rand"
   ]
  },
  {
   "cell_type": "markdown",
   "id": "3adddcba",
   "metadata": {},
   "source": [
    "Let's see the accuracy. Note that accuracy should be quite low."
   ]
  },
  {
   "cell_type": "code",
   "execution_count": 38,
   "id": "c6c24296",
   "metadata": {},
   "outputs": [
    {
     "data": {
      "text/plain": [
       "0.5017743080198722"
      ]
     },
     "execution_count": 38,
     "metadata": {},
     "output_type": "execute_result"
    }
   ],
   "source": [
    "((y_rand >= 0.5) == y_val).mean()"
   ]
  },
  {
   "cell_type": "markdown",
   "id": "c817aecd",
   "metadata": {},
   "source": [
    "Just by luck, ~50% of the predictions are correct. Now we want to plot the same rates for this model too.\n",
    "\n",
    "Take the code above for calculating TPR and FPR:"
   ]
  },
  {
   "cell_type": "code",
   "execution_count": 39,
   "id": "ba13786f",
   "metadata": {},
   "outputs": [],
   "source": [
    "# Create function taking y_val and y_pred and returning a DataFrame of tp, fp, fn, tn and TPR/FPR\n",
    "def tpr_fpr_dataframe(y_val, y_pred):\n",
    "    scores = []\n",
    "\n",
    "    thresholds = np.linspace(0, 1, 101)\n",
    "\n",
    "    for t in thresholds:\n",
    "        actual_positive = (y_val == 1)\n",
    "        actual_negative = (y_val == 0)\n",
    "\n",
    "        predict_positive = (y_pred >= t)\n",
    "        predict_negative = (y_pred < t)\n",
    "\n",
    "        tp = (predict_positive & actual_positive).sum()\n",
    "        tn = (predict_negative & actual_negative).sum()\n",
    "\n",
    "        fp = (predict_positive & actual_negative).sum()\n",
    "        fn = (predict_negative & actual_positive).sum()\n",
    "\n",
    "        scores.append((t, tp, fp, fn, tn))\n",
    "\n",
    "    columns = ['threshold', 'tp', 'fp', 'fn', 'tn']\n",
    "    df_scores = pd.DataFrame(scores, columns=columns)\n",
    "\n",
    "    df_scores['tpr'] = df_scores.tp / (df_scores.tp + df_scores.fn)\n",
    "    df_scores['fpr'] = df_scores.fp / (df_scores.fp + df_scores.tn)\n",
    "    \n",
    "    return df_scores"
   ]
  },
  {
   "cell_type": "code",
   "execution_count": 40,
   "id": "f7af4bd1",
   "metadata": {},
   "outputs": [],
   "source": [
    "df_rand = tpr_fpr_dataframe(y_val, y_rand)"
   ]
  },
  {
   "cell_type": "code",
   "execution_count": 41,
   "id": "d41e5d0a",
   "metadata": {},
   "outputs": [
    {
     "data": {
      "text/html": [
       "<div>\n",
       "<style scoped>\n",
       "    .dataframe tbody tr th:only-of-type {\n",
       "        vertical-align: middle;\n",
       "    }\n",
       "\n",
       "    .dataframe tbody tr th {\n",
       "        vertical-align: top;\n",
       "    }\n",
       "\n",
       "    .dataframe thead th {\n",
       "        text-align: right;\n",
       "    }\n",
       "</style>\n",
       "<table border=\"1\" class=\"dataframe\">\n",
       "  <thead>\n",
       "    <tr style=\"text-align: right;\">\n",
       "      <th></th>\n",
       "      <th>threshold</th>\n",
       "      <th>tp</th>\n",
       "      <th>fp</th>\n",
       "      <th>fn</th>\n",
       "      <th>tn</th>\n",
       "      <th>tpr</th>\n",
       "      <th>fpr</th>\n",
       "    </tr>\n",
       "  </thead>\n",
       "  <tbody>\n",
       "    <tr>\n",
       "      <th>0</th>\n",
       "      <td>0.0</td>\n",
       "      <td>386</td>\n",
       "      <td>1023</td>\n",
       "      <td>0</td>\n",
       "      <td>0</td>\n",
       "      <td>1.000000</td>\n",
       "      <td>1.000000</td>\n",
       "    </tr>\n",
       "    <tr>\n",
       "      <th>10</th>\n",
       "      <td>0.1</td>\n",
       "      <td>347</td>\n",
       "      <td>923</td>\n",
       "      <td>39</td>\n",
       "      <td>100</td>\n",
       "      <td>0.898964</td>\n",
       "      <td>0.902248</td>\n",
       "    </tr>\n",
       "    <tr>\n",
       "      <th>20</th>\n",
       "      <td>0.2</td>\n",
       "      <td>307</td>\n",
       "      <td>822</td>\n",
       "      <td>79</td>\n",
       "      <td>201</td>\n",
       "      <td>0.795337</td>\n",
       "      <td>0.803519</td>\n",
       "    </tr>\n",
       "    <tr>\n",
       "      <th>30</th>\n",
       "      <td>0.3</td>\n",
       "      <td>276</td>\n",
       "      <td>724</td>\n",
       "      <td>110</td>\n",
       "      <td>299</td>\n",
       "      <td>0.715026</td>\n",
       "      <td>0.707722</td>\n",
       "    </tr>\n",
       "    <tr>\n",
       "      <th>40</th>\n",
       "      <td>0.4</td>\n",
       "      <td>237</td>\n",
       "      <td>624</td>\n",
       "      <td>149</td>\n",
       "      <td>399</td>\n",
       "      <td>0.613990</td>\n",
       "      <td>0.609971</td>\n",
       "    </tr>\n",
       "    <tr>\n",
       "      <th>50</th>\n",
       "      <td>0.5</td>\n",
       "      <td>202</td>\n",
       "      <td>518</td>\n",
       "      <td>184</td>\n",
       "      <td>505</td>\n",
       "      <td>0.523316</td>\n",
       "      <td>0.506354</td>\n",
       "    </tr>\n",
       "    <tr>\n",
       "      <th>60</th>\n",
       "      <td>0.6</td>\n",
       "      <td>161</td>\n",
       "      <td>409</td>\n",
       "      <td>225</td>\n",
       "      <td>614</td>\n",
       "      <td>0.417098</td>\n",
       "      <td>0.399804</td>\n",
       "    </tr>\n",
       "    <tr>\n",
       "      <th>70</th>\n",
       "      <td>0.7</td>\n",
       "      <td>121</td>\n",
       "      <td>302</td>\n",
       "      <td>265</td>\n",
       "      <td>721</td>\n",
       "      <td>0.313472</td>\n",
       "      <td>0.295210</td>\n",
       "    </tr>\n",
       "    <tr>\n",
       "      <th>80</th>\n",
       "      <td>0.8</td>\n",
       "      <td>78</td>\n",
       "      <td>206</td>\n",
       "      <td>308</td>\n",
       "      <td>817</td>\n",
       "      <td>0.202073</td>\n",
       "      <td>0.201369</td>\n",
       "    </tr>\n",
       "    <tr>\n",
       "      <th>90</th>\n",
       "      <td>0.9</td>\n",
       "      <td>40</td>\n",
       "      <td>101</td>\n",
       "      <td>346</td>\n",
       "      <td>922</td>\n",
       "      <td>0.103627</td>\n",
       "      <td>0.098729</td>\n",
       "    </tr>\n",
       "    <tr>\n",
       "      <th>100</th>\n",
       "      <td>1.0</td>\n",
       "      <td>0</td>\n",
       "      <td>0</td>\n",
       "      <td>386</td>\n",
       "      <td>1023</td>\n",
       "      <td>0.000000</td>\n",
       "      <td>0.000000</td>\n",
       "    </tr>\n",
       "  </tbody>\n",
       "</table>\n",
       "</div>"
      ],
      "text/plain": [
       "     threshold   tp    fp   fn    tn       tpr       fpr\n",
       "0          0.0  386  1023    0     0  1.000000  1.000000\n",
       "10         0.1  347   923   39   100  0.898964  0.902248\n",
       "20         0.2  307   822   79   201  0.795337  0.803519\n",
       "30         0.3  276   724  110   299  0.715026  0.707722\n",
       "40         0.4  237   624  149   399  0.613990  0.609971\n",
       "50         0.5  202   518  184   505  0.523316  0.506354\n",
       "60         0.6  161   409  225   614  0.417098  0.399804\n",
       "70         0.7  121   302  265   721  0.313472  0.295210\n",
       "80         0.8   78   206  308   817  0.202073  0.201369\n",
       "90         0.9   40   101  346   922  0.103627  0.098729\n",
       "100        1.0    0     0  386  1023  0.000000  0.000000"
      ]
     },
     "execution_count": 41,
     "metadata": {},
     "output_type": "execute_result"
    }
   ],
   "source": [
    "df_rand[::10]"
   ]
  },
  {
   "cell_type": "markdown",
   "id": "144954c0",
   "metadata": {},
   "source": [
    "We see that TPR and FPR decrease fairly similarly, by about 0.01 for each threshold "
   ]
  },
  {
   "cell_type": "code",
   "execution_count": 42,
   "id": "6ea930c8",
   "metadata": {},
   "outputs": [
    {
     "data": {
      "text/plain": [
       "<matplotlib.legend.Legend at 0x7f23a4859ac0>"
      ]
     },
     "execution_count": 42,
     "metadata": {},
     "output_type": "execute_result"
    },
    {
     "data": {
      "image/png": "[encoded data removed]",
      "text/plain": [
       "<Figure size 900x600 with 1 Axes>"
      ]
     },
     "metadata": {
      "needs_background": "light"
     },
     "output_type": "display_data"
    }
   ],
   "source": [
    "plt.figure(dpi=150)\n",
    "plt.plot(df_rand.threshold, df_rand['tpr'], label='TPR')\n",
    "plt.plot(df_rand.threshold, df_rand['fpr'], label='FPR')\n",
    "plt.legend()"
   ]
  },
  {
   "cell_type": "markdown",
   "id": "716e3104",
   "metadata": {},
   "source": [
    "Let's look at some thresholds:\n",
    "- For *t*=0.6, TPR and FPR are both ~0.4\n",
    "    - This is like throwing a coin, and saying that for ~60% of cases, this customer is *not* churning\n",
    "        - In ~40% of cases, this customer is churning\n",
    "    - We predict a customer is churning with probability ~40%, and with probability ~60% the customer is not churning\n",
    "        - For about 40% of cases, this model is incorrect for non-churning customers"
   ]
  },
  {
   "cell_type": "markdown",
   "id": "1958bf4d",
   "metadata": {},
   "source": [
    "### Ideal model"
   ]
  },
  {
   "cell_type": "markdown",
   "id": "caa7ce22",
   "metadata": {},
   "source": [
    "A benchmark that gets the correct prediction for every user.\n",
    "- Say for each customer we have a predicted probability, e.g. [0.3, 0.5, 0.1, 0.8 ...]\n",
    "- Want to order the customers from smallest to largest probability, e.g. [0.0, 0.01, 0.01, 0.02, ... 0.5, ..., 0.8, 0.9]\n",
    "- The ideal model orders customers in such a way that first we have all the non-churning customers first, and after a threshold, every customer is churning.\n",
    "    - Say for threshold *t*, non-churning: [0.0 : t], churning: [t: 0.9]\n",
    "    - The first 72% do not churn, threshold *t*=0.72, and then last 28% do churn, and accuracy = 100%."
   ]
  },
  {
   "cell_type": "markdown",
   "id": "59b8d446",
   "metadata": {},
   "source": [
    "Implementing an ideal model:"
   ]
  },
  {
   "cell_type": "code",
   "execution_count": 43,
   "id": "b56b21df",
   "metadata": {},
   "outputs": [
    {
     "data": {
      "text/plain": [
       "(1023, 386)"
      ]
     },
     "execution_count": 43,
     "metadata": {},
     "output_type": "execute_result"
    }
   ],
   "source": [
    "# Need to find the number of positive and negative examples\n",
    "num_neg = (y_val == 0).sum()\n",
    "num_pos = (y_val == 1).sum()\n",
    "num_neg, num_pos"
   ]
  },
  {
   "cell_type": "markdown",
   "id": "95de7076",
   "metadata": {},
   "source": [
    "First we must create the ideal models probability array:"
   ]
  },
  {
   "cell_type": "code",
   "execution_count": 44,
   "id": "7f051585",
   "metadata": {},
   "outputs": [
    {
     "data": {
      "text/plain": [
       "(array([0, 0, 0, ..., 1, 1, 1]),\n",
       " array([0.00000000e+00, 7.10227273e-04, 1.42045455e-03, ...,\n",
       "        9.98579545e-01, 9.99289773e-01, 1.00000000e+00]))"
      ]
     },
     "execution_count": 44,
     "metadata": {},
     "output_type": "execute_result"
    }
   ],
   "source": [
    "# Creates array with num_neg repeating 0s and num_pos repeating 1s\n",
    "# Can think of this as validation set\n",
    "y_ideal = np.repeat([0, 1], [num_neg, num_pos])\n",
    "\n",
    "# Need to create predictions. Creating a value for each example/label sampled from [0, 1)\n",
    "y_ideal_pred = np.linspace(0, 1, len(y_val))\n",
    "\n",
    "y_ideal, y_ideal_pred"
   ]
  },
  {
   "cell_type": "markdown",
   "id": "64af7d8d",
   "metadata": {},
   "source": [
    "Finding the decision threshold *t* for 100% accuracy:"
   ]
  },
  {
   "cell_type": "code",
   "execution_count": 45,
   "id": "f7f9c21f",
   "metadata": {},
   "outputs": [
    {
     "data": {
      "text/plain": [
       "0.7260468417317246"
      ]
     },
     "execution_count": 45,
     "metadata": {},
     "output_type": "execute_result"
    }
   ],
   "source": [
    "1 - y_val.mean()"
   ]
  },
  {
   "cell_type": "markdown",
   "id": "bee1cec2",
   "metadata": {},
   "source": [
    "Positive values should be values above or equal to prediction 0.726"
   ]
  },
  {
   "cell_type": "code",
   "execution_count": 46,
   "id": "c85adf63",
   "metadata": {},
   "outputs": [
    {
     "data": {
      "text/plain": [
       "1.0"
      ]
     },
     "execution_count": 46,
     "metadata": {},
     "output_type": "execute_result"
    }
   ],
   "source": [
    "accuracy_score(y_ideal, y_ideal_pred >= 0.726)"
   ]
  },
  {
   "cell_type": "markdown",
   "id": "8f6ed9c9",
   "metadata": {},
   "source": [
    "Accuracy is perfect. This model does not exist but it does help us create a baseline for our actual model."
   ]
  },
  {
   "cell_type": "markdown",
   "id": "a416a420",
   "metadata": {},
   "source": [
    "Let's examine the TPR and FPR for the ideal model"
   ]
  },
  {
   "cell_type": "code",
   "execution_count": 47,
   "id": "b30738fe",
   "metadata": {},
   "outputs": [
    {
     "data": {
      "text/html": [
       "<div>\n",
       "<style scoped>\n",
       "    .dataframe tbody tr th:only-of-type {\n",
       "        vertical-align: middle;\n",
       "    }\n",
       "\n",
       "    .dataframe tbody tr th {\n",
       "        vertical-align: top;\n",
       "    }\n",
       "\n",
       "    .dataframe thead th {\n",
       "        text-align: right;\n",
       "    }\n",
       "</style>\n",
       "<table border=\"1\" class=\"dataframe\">\n",
       "  <thead>\n",
       "    <tr style=\"text-align: right;\">\n",
       "      <th></th>\n",
       "      <th>threshold</th>\n",
       "      <th>tp</th>\n",
       "      <th>fp</th>\n",
       "      <th>fn</th>\n",
       "      <th>tn</th>\n",
       "      <th>tpr</th>\n",
       "      <th>fpr</th>\n",
       "    </tr>\n",
       "  </thead>\n",
       "  <tbody>\n",
       "    <tr>\n",
       "      <th>0</th>\n",
       "      <td>0.0</td>\n",
       "      <td>386</td>\n",
       "      <td>1023</td>\n",
       "      <td>0</td>\n",
       "      <td>0</td>\n",
       "      <td>1.000000</td>\n",
       "      <td>1.000000</td>\n",
       "    </tr>\n",
       "    <tr>\n",
       "      <th>10</th>\n",
       "      <td>0.1</td>\n",
       "      <td>386</td>\n",
       "      <td>882</td>\n",
       "      <td>0</td>\n",
       "      <td>141</td>\n",
       "      <td>1.000000</td>\n",
       "      <td>0.862170</td>\n",
       "    </tr>\n",
       "    <tr>\n",
       "      <th>20</th>\n",
       "      <td>0.2</td>\n",
       "      <td>386</td>\n",
       "      <td>741</td>\n",
       "      <td>0</td>\n",
       "      <td>282</td>\n",
       "      <td>1.000000</td>\n",
       "      <td>0.724340</td>\n",
       "    </tr>\n",
       "    <tr>\n",
       "      <th>30</th>\n",
       "      <td>0.3</td>\n",
       "      <td>386</td>\n",
       "      <td>600</td>\n",
       "      <td>0</td>\n",
       "      <td>423</td>\n",
       "      <td>1.000000</td>\n",
       "      <td>0.586510</td>\n",
       "    </tr>\n",
       "    <tr>\n",
       "      <th>40</th>\n",
       "      <td>0.4</td>\n",
       "      <td>386</td>\n",
       "      <td>459</td>\n",
       "      <td>0</td>\n",
       "      <td>564</td>\n",
       "      <td>1.000000</td>\n",
       "      <td>0.448680</td>\n",
       "    </tr>\n",
       "    <tr>\n",
       "      <th>50</th>\n",
       "      <td>0.5</td>\n",
       "      <td>386</td>\n",
       "      <td>319</td>\n",
       "      <td>0</td>\n",
       "      <td>704</td>\n",
       "      <td>1.000000</td>\n",
       "      <td>0.311828</td>\n",
       "    </tr>\n",
       "    <tr>\n",
       "      <th>60</th>\n",
       "      <td>0.6</td>\n",
       "      <td>386</td>\n",
       "      <td>178</td>\n",
       "      <td>0</td>\n",
       "      <td>845</td>\n",
       "      <td>1.000000</td>\n",
       "      <td>0.173998</td>\n",
       "    </tr>\n",
       "    <tr>\n",
       "      <th>70</th>\n",
       "      <td>0.7</td>\n",
       "      <td>386</td>\n",
       "      <td>37</td>\n",
       "      <td>0</td>\n",
       "      <td>986</td>\n",
       "      <td>1.000000</td>\n",
       "      <td>0.036168</td>\n",
       "    </tr>\n",
       "    <tr>\n",
       "      <th>80</th>\n",
       "      <td>0.8</td>\n",
       "      <td>282</td>\n",
       "      <td>0</td>\n",
       "      <td>104</td>\n",
       "      <td>1023</td>\n",
       "      <td>0.730570</td>\n",
       "      <td>0.000000</td>\n",
       "    </tr>\n",
       "    <tr>\n",
       "      <th>90</th>\n",
       "      <td>0.9</td>\n",
       "      <td>141</td>\n",
       "      <td>0</td>\n",
       "      <td>245</td>\n",
       "      <td>1023</td>\n",
       "      <td>0.365285</td>\n",
       "      <td>0.000000</td>\n",
       "    </tr>\n",
       "    <tr>\n",
       "      <th>100</th>\n",
       "      <td>1.0</td>\n",
       "      <td>1</td>\n",
       "      <td>0</td>\n",
       "      <td>385</td>\n",
       "      <td>1023</td>\n",
       "      <td>0.002591</td>\n",
       "      <td>0.000000</td>\n",
       "    </tr>\n",
       "  </tbody>\n",
       "</table>\n",
       "</div>"
      ],
      "text/plain": [
       "     threshold   tp    fp   fn    tn       tpr       fpr\n",
       "0          0.0  386  1023    0     0  1.000000  1.000000\n",
       "10         0.1  386   882    0   141  1.000000  0.862170\n",
       "20         0.2  386   741    0   282  1.000000  0.724340\n",
       "30         0.3  386   600    0   423  1.000000  0.586510\n",
       "40         0.4  386   459    0   564  1.000000  0.448680\n",
       "50         0.5  386   319    0   704  1.000000  0.311828\n",
       "60         0.6  386   178    0   845  1.000000  0.173998\n",
       "70         0.7  386    37    0   986  1.000000  0.036168\n",
       "80         0.8  282     0  104  1023  0.730570  0.000000\n",
       "90         0.9  141     0  245  1023  0.365285  0.000000\n",
       "100        1.0    1     0  385  1023  0.002591  0.000000"
      ]
     },
     "execution_count": 47,
     "metadata": {},
     "output_type": "execute_result"
    }
   ],
   "source": [
    "df_ideal = tpr_fpr_dataframe(y_ideal, y_ideal_pred)\n",
    "df_ideal[::10]"
   ]
  },
  {
   "cell_type": "code",
   "execution_count": 48,
   "id": "60cb9f81",
   "metadata": {},
   "outputs": [
    {
     "data": {
      "text/plain": [
       "<matplotlib.legend.Legend at 0x7f23a484eb80>"
      ]
     },
     "execution_count": 48,
     "metadata": {},
     "output_type": "execute_result"
    },
    {
     "data": {
      "image/png": "[encoded data removed]",
      "text/plain": [
       "<Figure size 900x600 with 1 Axes>"
      ]
     },
     "metadata": {
      "needs_background": "light"
     },
     "output_type": "display_data"
    }
   ],
   "source": [
    "plt.figure(dpi=150)\n",
    "plt.plot(df_ideal.threshold, df_ideal['tpr'], label='TPR')\n",
    "plt.plot(df_ideal.threshold, df_ideal['fpr'], label='FPR')\n",
    "plt.legend()"
   ]
  },
  {
   "cell_type": "markdown",
   "id": "bce32c3b",
   "metadata": {},
   "source": [
    "We see the TPR almost always stays around 1.0, this is ideal.\n",
    "- Starts to lower at 0.726 (*t*) \n",
    "\n",
    "No customer ever falsely predicted for churn after *t*\n",
    "\n",
    "Say for *t* = 0.4, there are approximately 20% non-churning customers that are predicted as churning."
   ]
  },
  {
   "cell_type": "markdown",
   "id": "434d98c9",
   "metadata": {},
   "source": [
    "### Putting everything together"
   ]
  },
  {
   "cell_type": "code",
   "execution_count": 49,
   "id": "d7a28486",
   "metadata": {},
   "outputs": [
    {
     "data": {
      "text/plain": [
       "<matplotlib.legend.Legend at 0x7f23a4377790>"
      ]
     },
     "execution_count": 49,
     "metadata": {},
     "output_type": "execute_result"
    },
    {
     "data": {
      "image/png": "[encoded data removed]",
      "text/plain": [
       "<Figure size 900x600 with 1 Axes>"
      ]
     },
     "metadata": {
      "needs_background": "light"
     },
     "output_type": "display_data"
    }
   ],
   "source": [
    "plt.figure(dpi=150)\n",
    "plt.plot(df_scores.threshold, df_scores['tpr'], label='TPR', color='black')\n",
    "plt.plot(df_scores.threshold, df_scores['fpr'], label='FPR', color='blue')\n",
    "\n",
    "plt.plot(df_ideal.threshold, df_ideal['tpr'], label='TPR ideal')\n",
    "plt.plot(df_ideal.threshold, df_ideal['fpr'], label='FPR ideal')\n",
    "\n",
    "# Removed random models\n",
    "# plt.plot(df_rand.threshold, df_rand['tpr'], label='TPR random', color='grey')\n",
    "# plt.plot(df_rand.threshold, df_rand['fpr'], label='FPR random', color='grey')\n",
    "\n",
    "plt.legend()"
   ]
  },
  {
   "cell_type": "markdown",
   "id": "c925a594",
   "metadata": {},
   "source": [
    "TPR quite from ideal TPR and FPR quite far from ideal FPR.\n",
    "\n",
    "Plotting against ideal model is not always intuitive, because as we know for our model the best threshold is 0.5 but the best threshold for the ideal model is 0.726."
   ]
  },
  {
   "cell_type": "markdown",
   "id": "1a2c1f3c",
   "metadata": {},
   "source": [
    "What we *can* do is plot FPR against to TPR without looking at thresholds."
   ]
  },
  {
   "cell_type": "code",
   "execution_count": 50,
   "id": "bc605391",
   "metadata": {},
   "outputs": [
    {
     "data": {
      "text/plain": [
       "<matplotlib.legend.Legend at 0x7f23a4330220>"
      ]
     },
     "execution_count": 50,
     "metadata": {},
     "output_type": "execute_result"
    },
    {
     "data": {
      "image/png": "[encoded data removed]",
      "text/plain": [
       "<Figure size 885x885 with 1 Axes>"
      ]
     },
     "metadata": {
      "needs_background": "light"
     },
     "output_type": "display_data"
    }
   ],
   "source": [
    "# ROC curves are usually square\n",
    "plt.figure(figsize=(7.5, 7.5), dpi=118)\n",
    "\n",
    "plt.plot(df_scores.fpr, df_scores.tpr, label='Model')\n",
    "plt.plot(df_rand.fpr, df_rand.tpr, label='Random')\n",
    "plt.plot(df_ideal.fpr, df_ideal.tpr, label='Ideal')\n",
    "\n",
    "plt.xlabel('FPR')\n",
    "plt.ylabel('TPR')\n",
    "\n",
    "plt.legend()"
   ]
  },
  {
   "cell_type": "markdown",
   "id": "fc0d8061",
   "metadata": {},
   "source": [
    "The spot on the green line where TPR=100% and FPR=0% at *t*=0.726 is what we are aiming for.\n",
    "- We can call this our **North star**"
   ]
  },
  {
   "cell_type": "markdown",
   "id": "7644cecc",
   "metadata": {},
   "source": [
    "We do not need these extra calculations however. In practice we can just use the scores and a random function for the random model, and we already know how the ideal model looks:"
   ]
  },
  {
   "cell_type": "code",
   "execution_count": 51,
   "id": "2bc16d60",
   "metadata": {},
   "outputs": [
    {
     "data": {
      "text/plain": [
       "<matplotlib.legend.Legend at 0x7f236a071c40>"
      ]
     },
     "execution_count": 51,
     "metadata": {},
     "output_type": "execute_result"
    },
    {
     "data": {
      "image/png": "[encoded data removed]",
      "text/plain": [
       "<Figure size 885x885 with 1 Axes>"
      ]
     },
     "metadata": {
      "needs_background": "light"
     },
     "output_type": "display_data"
    }
   ],
   "source": [
    "# ROC curves are usually square\n",
    "plt.figure(figsize=(7.5, 7.5), dpi=118)\n",
    "\n",
    "plt.plot(df_scores.fpr, df_scores.tpr, label='Model')\n",
    "plt.plot([0, 1], [0, 1], label='Random')\n",
    "\n",
    "plt.xlabel('FPR')\n",
    "plt.ylabel('TPR')\n",
    "\n",
    "plt.legend()"
   ]
  },
  {
   "cell_type": "markdown",
   "id": "27c5d645",
   "metadata": {},
   "source": [
    "We know where the North star is and that we want to aim for it. We can keep this in mind and do not have to plot it each time. We want this blue line to be as close as possible to North star and far as possible from random baseline.\n",
    "\n",
    "Let's understand what is going on here.\n",
    "- Say we start TPR = FPR = 0. This happens at bigger thresholds like *t*=1.0\n",
    "    - TPR is always 0 as we do not predict anyone as churning\n",
    "    - FPR is always 0 as we do every churning prediction is true here\n",
    "- At TPR = FPR = 1.0 where *t*=0.0.\n",
    "    - TPR is 100% as we predict everyone as churning\n",
    "    - FPR is 100% as we do not have any false predictions for FPR\n",
    "- Say at *t* = 0.07, TPR = 2 and FPR = 0.1. We slowly increase the threshold and predict more customers are churning\n",
    "    - TPR increases as some of these predictions are correct\n",
    "        - Recall for the ideal model only the TPR increases, not the FPR\n",
    "    - FPR also increases as we start making mistakes\n",
    "- Say as *t* decrease to 0.6 or 0.5, we start predicting more and more customers are churning\n",
    "    - TPR increases as more of these predictions are correct\n",
    "    - FPR also increases as we make more mistakes\n",
    "- For a better model would be a lot closer to ideal line. It would still make some mistakes though and hvae a curve\n",
    "    - TPR should be high with relatively low FPR as TPR stays close to 100%"
   ]
  },
  {
   "cell_type": "markdown",
   "id": "c296085d",
   "metadata": {},
   "source": [
    "<img src=\"images/4.5-roc-curves.png\" alt=\"Confusion Matrix\" width=\"1200\"/>\n",
    "\n",
    "- Green: good model\n",
    "- Blue: okay model\n",
    "- Red: bad model\n",
    "- Purple: you made a mistake. Perhaps flip your TPR and FPR\n",
    "\n",
    "Know that for any point along the curves, as you move to the right, *your threshold decreases from 1.0 to 0.1*"
   ]
  },
  {
   "cell_type": "markdown",
   "id": "b92bf0cf",
   "metadata": {},
   "source": [
    "Another more interesting metric than ROC curve is the AUC - Area Under the [ROC] Curve. It turns ROC into a single, straightforward metric. We will see this in 4.6"
   ]
  },
  {
   "cell_type": "markdown",
   "id": "b90412f1",
   "metadata": {},
   "source": [
    "We can also use Scikit-Learn to find ROC and AUC:"
   ]
  },
  {
   "cell_type": "code",
   "execution_count": 52,
   "id": "4a689523",
   "metadata": {},
   "outputs": [],
   "source": [
    "from sklearn.metrics import roc_curve"
   ]
  },
  {
   "cell_type": "code",
   "execution_count": 53,
   "id": "37c94946",
   "metadata": {},
   "outputs": [],
   "source": [
    "# Function gives you all three values\n",
    "fpr, tpr, thresholds = roc_curve(y_val, y_pred)"
   ]
  },
  {
   "cell_type": "markdown",
   "id": "4e3c6ffa",
   "metadata": {},
   "source": [
    "Not interested in thresholds, but can use TPR and FPR to calculate ROC curve:"
   ]
  },
  {
   "cell_type": "code",
   "execution_count": 54,
   "id": "5863648f",
   "metadata": {},
   "outputs": [
    {
     "data": {
      "text/plain": [
       "<matplotlib.legend.Legend at 0x7f23a4800dc0>"
      ]
     },
     "execution_count": 54,
     "metadata": {},
     "output_type": "execute_result"
    },
    {
     "data": {
      "image/png": "[encoded data removed]",
      "text/plain": [
       "<Figure size 885x885 with 1 Axes>"
      ]
     },
     "metadata": {
      "needs_background": "light"
     },
     "output_type": "display_data"
    }
   ],
   "source": [
    "plt.figure(figsize=(7.5, 7.5), dpi=118)\n",
    "\n",
    "plt.plot(fpr, tpr, label='Model')\n",
    "plt.plot([0, 1], [0, 1], label='Random', linestyle='--')\n",
    "\n",
    "plt.xlabel('FPR')\n",
    "plt.ylabel('TPR')\n",
    "\n",
    "plt.legend()"
   ]
  },
  {
   "cell_type": "markdown",
   "id": "0197cdd3",
   "metadata": {},
   "source": [
    "More jagged than our curve because it checks thresholds much more specifically, rather than the 100 points we generate. It is more accurate."
   ]
  },
  {
   "cell_type": "markdown",
   "id": "3b2d0afa",
   "metadata": {},
   "source": [
    "Recap:\n",
    "- True Positive Rate: Number of true positive predictions that are correct (FP/TN+FP)\n",
    "- False Positive Rate: Number of false positive predictions that are correct (TP/FN+TP)\n",
    "- ROC curve: FPR plotted against TPR. Want this to be as far up and left as possible for maximal TPR and minimal FPR."
   ]
  },
  {
   "cell_type": "markdown",
   "id": "886f8028",
   "metadata": {},
   "source": [
    "## 4.6 ROC AUC\n",
    "\n",
    "*Images from https://www.youtube.com/watch?v=hvIQPAwkVZo&list=PL3MmuxUbc_hIhxl5Ji8t4O6lPAOpHaCLR&index=46*\n",
    "\n",
    "* Area under the ROC curve - useful metric\n",
    "* Interpretation of AUC\n",
    "\n",
    "Recall ROC evaluates how the model performs for every possible decision threshold from 0 to 1.\n",
    "- The ideal point in the upper left (when TPR=1.0 and FPR=0.0), and we want to be as close as possible to the ideal point\n",
    "- One of the ways to measure how close we are to this ideal point is with the Area Under the Curve (AUC)\n",
    "\n",
    "Let's explore AUC:"
   ]
  },
  {
   "cell_type": "markdown",
   "id": "7480ce40",
   "metadata": {},
   "source": [
    "<img src=\"images/4.6-AUC.png\" alt=\"AUC\" width=\"1200\"/>\n",
    "\n",
    "The blue model is only okay, and has an AUC of 0.8, but the great model has an AUC of 0.9"
   ]
  },
  {
   "cell_type": "markdown",
   "id": "715904f0",
   "metadata": {},
   "source": [
    "<img src=\"images/4.6-random-model.png\" alt=\"Random Model AUC\" width=\"1200\"/>\n",
    "\n",
    "Random model is basically a straight line. The AUC=0.5 (the overall graph has area 1.0)"
   ]
  },
  {
   "cell_type": "markdown",
   "id": "de616f2e",
   "metadata": {},
   "source": [
    "<img src=\"images/4.6-ideal-model.png\" alt=\"Ideal Model AUC\" width=\"1200\"/>\n",
    "\n",
    "Ideal model has the complete possible AUC space. AUC=1.0"
   ]
  },
  {
   "cell_type": "markdown",
   "id": "22588f0a",
   "metadata": {},
   "source": [
    "Comparing some models:\n",
    "\n",
    "<img src=\"images/4.6-auc-comparison.png\" alt=\"AUC comparison\" width=\"1200\"/>\n",
    "\n",
    "We can see how we would compare and evaluate a model based on AUC"
   ]
  },
  {
   "cell_type": "markdown",
   "id": "063ba3b4",
   "metadata": {},
   "source": [
    "To automatically calculate AUC, we can use sklearn metrics:"
   ]
  },
  {
   "cell_type": "code",
   "execution_count": 55,
   "id": "7509a4b6",
   "metadata": {},
   "outputs": [],
   "source": [
    "from sklearn.metrics import auc"
   ]
  },
  {
   "cell_type": "markdown",
   "id": "ca1adcb8",
   "metadata": {},
   "source": [
    "Note that this just calculates the area under any curve given *x* and *y*. We need to provide FPR and TPR to get ROC curve AUC:"
   ]
  },
  {
   "cell_type": "code",
   "execution_count": 56,
   "id": "6643a6e6",
   "metadata": {},
   "outputs": [
    {
     "data": {
      "text/plain": [
       "0.8438479732980819"
      ]
     },
     "execution_count": 56,
     "metadata": {},
     "output_type": "execute_result"
    }
   ],
   "source": [
    "auc(fpr, tpr)"
   ]
  },
  {
   "cell_type": "markdown",
   "id": "e5b41269",
   "metadata": {},
   "source": [
    "Let's compare this to our implementation of FPR and TPR:"
   ]
  },
  {
   "cell_type": "code",
   "execution_count": 57,
   "id": "e1c0c11b",
   "metadata": {},
   "outputs": [
    {
     "data": {
      "text/plain": [
       "0.8438732975754537"
      ]
     },
     "execution_count": 57,
     "metadata": {},
     "output_type": "execute_result"
    }
   ],
   "source": [
    "auc(df_scores.fpr, df_scores.tpr)"
   ]
  },
  {
   "cell_type": "markdown",
   "id": "679c29e8",
   "metadata": {},
   "source": [
    "Sklearn's version is more accurate. We only evaluate against 100 thresholds but sklearn calculates against all thresholds the model could have."
   ]
  },
  {
   "cell_type": "markdown",
   "id": "19ada1be",
   "metadata": {},
   "source": [
    "We can also check the AUC of the ideal model:"
   ]
  },
  {
   "cell_type": "code",
   "execution_count": 58,
   "id": "0774697c",
   "metadata": {},
   "outputs": [
    {
     "data": {
      "text/plain": [
       "0.9999430203759136"
      ]
     },
     "execution_count": 58,
     "metadata": {},
     "output_type": "execute_result"
    }
   ],
   "source": [
    "auc(df_ideal.fpr, df_ideal.tpr)"
   ]
  },
  {
   "cell_type": "markdown",
   "id": "cee10b42",
   "metadata": {},
   "source": [
    "To compute the area under the ROC curve we can use the roc_curve() and auc() functions:"
   ]
  },
  {
   "cell_type": "code",
   "execution_count": 59,
   "id": "9f8658f5",
   "metadata": {},
   "outputs": [
    {
     "data": {
      "text/plain": [
       "0.8438479732980819"
      ]
     },
     "execution_count": 59,
     "metadata": {},
     "output_type": "execute_result"
    }
   ],
   "source": [
    "fpr, tpr, thresholds = roc_curve(y_val, y_pred)\n",
    "auc(fpr, tpr)"
   ]
  },
  {
   "cell_type": "markdown",
   "id": "c6bc115d",
   "metadata": {},
   "source": [
    "We can also calculate this all at once with scitkit-learn:"
   ]
  },
  {
   "cell_type": "code",
   "execution_count": 60,
   "id": "29cbdd64",
   "metadata": {},
   "outputs": [],
   "source": [
    "from sklearn.metrics import roc_auc_score"
   ]
  },
  {
   "cell_type": "markdown",
   "id": "9b228412",
   "metadata": {},
   "source": [
    "Just need to specify actual values and predictions:"
   ]
  },
  {
   "cell_type": "code",
   "execution_count": 61,
   "id": "9fd31898",
   "metadata": {},
   "outputs": [
    {
     "data": {
      "text/plain": [
       "0.8438479732980819"
      ]
     },
     "execution_count": 61,
     "metadata": {},
     "output_type": "execute_result"
    }
   ],
   "source": [
    "roc_auc_score(y_val, y_pred)"
   ]
  },
  {
   "cell_type": "markdown",
   "id": "4f611ab0",
   "metadata": {},
   "source": [
    "How do we interpet AUC in the context of an actual problem?\n",
    "\n",
    "Recall the churn example. Say there is already a prediction for each customer.\n",
    "- E.g. A customer that will not churn has been predicted with a probability of 0.6, and a customer that will churn has been predicted with a probability of 0.5\n",
    "    - AUC = P(0.5 > 0.60), meaning the AUC is the probability the second customer has a prediction score higher than the first.\n",
    "\n",
    "AUC is the probability a randomly selected positive example has a higher score than a randomly selected negative example."
   ]
  },
  {
   "cell_type": "markdown",
   "id": "c9c86dfb",
   "metadata": {},
   "source": [
    "We can see this in code. Let's collect all the scores for positive and negative examples:"
   ]
  },
  {
   "cell_type": "code",
   "execution_count": 62,
   "id": "02bb73e9",
   "metadata": {},
   "outputs": [],
   "source": [
    "neg = y_pred[y_val == 0]\n",
    "pos = y_pred[y_val == 1]"
   ]
  },
  {
   "cell_type": "markdown",
   "id": "38ac1ace",
   "metadata": {},
   "source": [
    "Let's estimate the probability that a positive example has a higher score than a negative example for our model:"
   ]
  },
  {
   "cell_type": "code",
   "execution_count": 63,
   "id": "cfeb22b1",
   "metadata": {},
   "outputs": [],
   "source": [
    "import random"
   ]
  },
  {
   "cell_type": "markdown",
   "id": "5e55c27c",
   "metadata": {},
   "source": [
    "Here for an arbitrary large amount of iterations *n*, we check for two random values if the positive example has a higher score than the negative example:"
   ]
  },
  {
   "cell_type": "code",
   "execution_count": 64,
   "id": "ee7da8e1",
   "metadata": {},
   "outputs": [
    {
     "data": {
      "text/plain": [
       "0.84516"
      ]
     },
     "execution_count": 64,
     "metadata": {},
     "output_type": "execute_result"
    }
   ],
   "source": [
    "n = 100000\n",
    "success = 0 \n",
    "\n",
    "# Each time gets an index for the negative and positive examples and compares\n",
    "for i in range(n):\n",
    "    pos_ind = random.randint(0, len(pos) - 1) # Gets a random int from the range 0 to the number of examples as index\n",
    "    neg_ind = random.randint(0, len(neg) - 1)\n",
    "\n",
    "    if pos[pos_ind] > neg[neg_ind]:\n",
    "        success = success + 1\n",
    "\n",
    "# After arbitrary amount of times, estimate probability\n",
    "success / n"
   ]
  },
  {
   "cell_type": "markdown",
   "id": "53d82527",
   "metadata": {},
   "source": [
    "This output is quite close to the AUC (0.8438) and we can see that we are approaching it.\n",
    "\n",
    "Each index corresponds to a different customer, and then we compare whether or not the positive example has a higher score. After doing this enough times, the success rate (probability) should approach the AUC as more probabilities are true than false."
   ]
  },
  {
   "cell_type": "markdown",
   "id": "2583e7b8",
   "metadata": {},
   "source": [
    "We can implement the same thing in NumPy. Instead of a loop, we can just generate 100,000 negative example indices and 100,000 positive example indices and calculate in a vectorized way:"
   ]
  },
  {
   "cell_type": "code",
   "execution_count": 65,
   "id": "2b9e19e4",
   "metadata": {},
   "outputs": [
    {
     "data": {
      "text/plain": [
       "0.84646"
      ]
     },
     "execution_count": 65,
     "metadata": {},
     "output_type": "execute_result"
    }
   ],
   "source": [
    "n = 50000\n",
    "\n",
    "# Seed for consistency\n",
    "np.random.seed(1)\n",
    "pos_ind = np.random.randint(0, len(pos), size=n) # Generate n indices\n",
    "neg_ind = np.random.randint(0, len(neg), size=n)\n",
    "\n",
    "# The mean of an array of 0s and 1s is just the mean of positive values\n",
    "(pos[pos_ind] > neg[neg_ind]).mean()"
   ]
  },
  {
   "cell_type": "markdown",
   "id": "add3c448",
   "metadata": {},
   "source": [
    "Recap:\n",
    "- Talked about ROC cuve AUC\n",
    "- This is a good metric as it summarizes FPR and TPR within a fixed range\n",
    "- Learned AUC, which is also the probability a randomly selected positive example has a higher score than a randomly selected negative example."
   ]
  },
  {
   "cell_type": "markdown",
   "id": "6336a636",
   "metadata": {},
   "source": [
    "## 4.7 Cross-Validation\n",
    "\n",
    "*Images from https://www.youtube.com/watch?v=BIIZaVtUbf4&list=PL3MmuxUbc_hIhxl5Ji8t4O6lPAOpHaCLR&index=47*\n",
    "\n",
    "* Evaluating the same model on different subsets of data\n",
    "* Getting the average prediction and the spread within predictions\n",
    "\n",
    "Recall parameter training: we split the dataset into training, validation and test datasets and set the test dataset aside.\n",
    "- Do not necessarily have to split to validation like this.\n",
    "- We can instead split into *k* parts (e.g. *k* = 3)\n",
    "    - We take these 3 parts of the full training dataset, train a model on parts 1 and 2, and then use part 3 for validation\n",
    "        - Also compute AUC on this validation dataset\n",
    "- This time, use a different combination of parts, e.g. train a model on parts 1 and 3, and then use part 2 for validation\n",
    "- Finally use the last combination, e.g. train a model on parts 2 and 3, and then use part 1 for validation\n",
    "\n",
    "\n",
    "The result of this is that we have 3 AUCs scores and can compute the mean and standard deviation of the AUCs\n",
    "- Mean shows the average of AUCs, and standard deviation shows how stable the model is.\n"
   ]
  },
  {
   "cell_type": "markdown",
   "id": "d8a694e2",
   "metadata": {},
   "source": [
    "First create a function for training with DataFrame and labels:"
   ]
  },
  {
   "cell_type": "code",
   "execution_count": 66,
   "id": "92708443",
   "metadata": {},
   "outputs": [],
   "source": [
    "def train(df_train, y_train, C=1.0):\n",
    "    dicts = df_train[categorical + numerical].to_dict(orient='records')\n",
    "\n",
    "    dv = DictVectorizer(sparse=False)\n",
    "    X_train = dv.fit_transform(dicts)\n",
    "\n",
    "    model = LogisticRegression(C=C, max_iter=1000)\n",
    "    model.fit(X_train, y_train)\n",
    "    \n",
    "    return dv, model"
   ]
  },
  {
   "cell_type": "code",
   "execution_count": 67,
   "id": "4689044d",
   "metadata": {},
   "outputs": [],
   "source": [
    "dv, model = train(df_train, y_train, C=0.001)"
   ]
  },
  {
   "cell_type": "markdown",
   "id": "e0741ff3",
   "metadata": {},
   "source": [
    "Need a function to predict on the validation set and returned predicted labels:"
   ]
  },
  {
   "cell_type": "code",
   "execution_count": 68,
   "id": "08ac302c",
   "metadata": {},
   "outputs": [],
   "source": [
    "def predict(df, dv, model):\n",
    "    dicts = df[categorical + numerical].to_dict(orient='records')\n",
    "\n",
    "    X = dv.transform(dicts)\n",
    "    y_pred = model.predict_proba(X)[:, 1]\n",
    "\n",
    "    return y_pred"
   ]
  },
  {
   "cell_type": "code",
   "execution_count": 69,
   "id": "95d88ee1",
   "metadata": {},
   "outputs": [],
   "source": [
    "y_pred = predict(df_val, dv, model)"
   ]
  },
  {
   "cell_type": "markdown",
   "id": "0f1337a5",
   "metadata": {},
   "source": [
    "Now we can generate the folds for K-Fold cross-validaton:"
   ]
  },
  {
   "cell_type": "code",
   "execution_count": 70,
   "id": "e3c7e607",
   "metadata": {},
   "outputs": [],
   "source": [
    "from sklearn.model_selection import KFold"
   ]
  },
  {
   "cell_type": "markdown",
   "id": "20823855",
   "metadata": {},
   "source": [
    "TQDM is a Python package that can provide a progress bar for for-loops and add timing."
   ]
  },
  {
   "cell_type": "code",
   "execution_count": 71,
   "id": "a8fe7363",
   "metadata": {},
   "outputs": [],
   "source": [
    "from tqdm.auto import tqdm"
   ]
  },
  {
   "cell_type": "markdown",
   "id": "48348d92",
   "metadata": {},
   "source": [
    "For multiple regularization parameters *C*, we apply 5-fold CV and report the mean and std of AUC for each value of *C*."
   ]
  },
  {
   "cell_type": "code",
   "execution_count": 72,
   "id": "ce936aca",
   "metadata": {},
   "outputs": [
    {
     "data": {
      "application/vnd.jupyter.widget-view+json": {
       "model_id": "f487734077b44ccd91fb1f6d3ee1c03a",
       "version_major": 2,
       "version_minor": 0
      },
      "text/plain": [
       "  0%|          | 0/7 [00:00<?, ?it/s]"
      ]
     },
     "metadata": {},
     "output_type": "display_data"
    },
    {
     "name": "stdout",
     "output_type": "stream",
     "text": [
      "C=0.001 0.825 +- 0.009\n",
      "C=0.01 0.840 +- 0.009\n",
      "C=0.1 0.841 +- 0.008\n",
      "C=0.5 0.841 +- 0.007\n",
      "C=1 0.840 +- 0.009\n",
      "C=5 0.841 +- 0.008\n",
      "C=10 0.841 +- 0.008\n"
     ]
    }
   ],
   "source": [
    "n_splits = 5\n",
    "\n",
    "for C in tqdm([.001, 0.01, 0.1, 0.5, 1, 5, 10]):\n",
    "    # Generate n_splits, shuffle and use seed 1 for consistency\n",
    "    kfold = KFold(n_splits=n_splits, shuffle=True, random_state=1)\n",
    "\n",
    "    scores = []\n",
    "\n",
    "    # Passing a DataFrame to kfold.split() provides a generator that we can iterate \n",
    "    #   over and get training and validation indices\n",
    "    for train_idx, val_idx in kfold.split(df_full_train):\n",
    "        # kfold.split() returns a list of indices. Need df.iloc[indices] to get the datasets\n",
    "        df_train = df_full_train.iloc[train_idx]\n",
    "        df_val = df_full_train.iloc[val_idx]\n",
    "\n",
    "        # Train as normal and getting label predictions\n",
    "        y_train = df_train.churn.values\n",
    "        y_val = df_val.churn.values\n",
    "\n",
    "        dv, model = train(df_train, y_train, C=C)\n",
    "        y_pred = predict(df_val, dv, model)\n",
    "\n",
    "        # Get AUC score and add it to scores list\n",
    "        auc = roc_auc_score(y_val, y_pred)\n",
    "        scores.append(auc)\n",
    "\n",
    "    # Get mean and std for CV for each value of the regularization parameter C \n",
    "    print('C=%s %.3f +- %.3f' % (C, np.mean(scores), np.std(scores)))"
   ]
  },
  {
   "cell_type": "markdown",
   "id": "338ffa0f",
   "metadata": {},
   "source": [
    "The lower values are a bit worse, and 1 almost as good as the others but is the default value, so we go with that."
   ]
  },
  {
   "cell_type": "code",
   "execution_count": 73,
   "id": "2f72b194",
   "metadata": {},
   "outputs": [
    {
     "data": {
      "text/plain": [
       "[0.8437095242207064,\n",
       " 0.8458420242352005,\n",
       " 0.832510535821794,\n",
       " 0.8320150124704228,\n",
       " 0.8525501239371216]"
      ]
     },
     "execution_count": 73,
     "metadata": {},
     "output_type": "execute_result"
    }
   ],
   "source": [
    "scores"
   ]
  },
  {
   "cell_type": "markdown",
   "id": "5250da2e",
   "metadata": {},
   "source": [
    "Now we want to take the full training dataset to train the final model and predict on the test dataset."
   ]
  },
  {
   "cell_type": "code",
   "execution_count": 74,
   "id": "03e81326",
   "metadata": {},
   "outputs": [
    {
     "data": {
      "text/plain": [
       "0.8572386167896259"
      ]
     },
     "execution_count": 74,
     "metadata": {},
     "output_type": "execute_result"
    }
   ],
   "source": [
    "dv, model = train(df_full_train, df_full_train.churn.values, C=1.0)\n",
    "y_pred = predict(df_test, dv, model)\n",
    "\n",
    "auc = roc_auc_score(y_test, y_pred)\n",
    "auc"
   ]
  },
  {
   "cell_type": "markdown",
   "id": "6a5f6ce4",
   "metadata": {},
   "source": [
    "A little bit higher than before, which is as we expected. If this change was a little bit lower that would be okay too, as long as results are not wildly different."
   ]
  },
  {
   "cell_type": "markdown",
   "id": "db242dff",
   "metadata": {},
   "source": [
    "## 4.8 Summary\n",
    "\n",
    "Recap: Used model from last week\n",
    "\n",
    "* Metric - a single number that describes the performance of a model\n",
    "    - Accuracy, Precision, Recall, AUC etc\n",
    "    - Used model from last week to find accuracy metric\n",
    "* Accuracy - fraction of correct answers; sometimes misleading\n",
    "    - Used model to evaluate accuracy against different thresholds\n",
    "        - 0.5 was the best and default threshold\n",
    "        - At 1.0 we have a dummy model that reads everything as non-churning\n",
    "            - Difference in that the accuracy was not very different\n",
    "    - There is quite a class imbalance here, 72% of customers are not churning that is why the model has decent accuracy at *t*=1.0\n",
    "* Confusion table - a way to describe different types of errors and correct decisions\n",
    "    - True Positive, True Negative - correct decisions\n",
    "    - False Positive, False negative - incorrect decisions\n",
    "* Precision and recall are less misleading when we have class inbalance\n",
    "    - Precision is the fraction of positive predictions that are correct (our model has 72% precision)\n",
    "    - Recall is the fraction of correctly identified positive examples (our model is poor, has 64% recall)\n",
    "* ROC Curve - a way to evaluate the performance at all thresholds; okay to use with imbalance\n",
    "    - Explored True Positive Rate (TPR) and False Positive Rate (FPR)\n",
    "    - Modeled FPR against TPR\n",
    "        - Ideal spot on this graph in the top left, as far from random baseline as possible\n",
    "* AUC (Area Under the Curve) - here, the AUC of the ROC curve, summarizing FPR and TPR\n",
    "    - Notably, AUC is the probability that a randomly selected positive example has a higher score than a randomly selected negative example\n",
    "* K-Fold CV - more reliable estimate for performance (mean + std)\n",
    "    - A method of dataset splitting to manage over-optimism of model performance\n",
    "    - Splits full train dataset into K-folds, use 1 fold for evaluation and K-1 to train\n",
    "    - Use these 10 scores to find average and std scores and see model stability and performance"
   ]
  },
  {
   "cell_type": "markdown",
   "id": "4941b0ca",
   "metadata": {},
   "source": [
    "## 4.9 Explore more\n",
    "\n",
    "* Check the precision and recall of the dummy classifier that always predict \"FALSE\"\n",
    "* F1 score = 2 * P * R / (P + R)\n",
    "* Evaluate precision and recall at different thresholds, plot P vs R - this way you'll get the precision/recall curve (similar to ROC curve)\n",
    "* Area under the PR curve is also a useful metric\n",
    "\n",
    "Other projects:\n",
    "\n",
    "* Calculate the metrics for datasets from the previous week"
   ]
  }
 ],
 "metadata": {
  "kernelspec": {
   "display_name": "Python 3.9.12 ('exp-tracking-env')",
   "language": "python",
   "name": "python3"
  },
  "language_info": {
   "codemirror_mode": {
    "name": "ipython",
    "version": 3
   },
   "file_extension": ".py",
   "mimetype": "text/x-python",
   "name": "python",
   "nbconvert_exporter": "python",
   "pygments_lexer": "ipython3",
   "version": "3.9.12"
  },
  "vscode": {
   "interpreter": {
    "hash": "5380a5719b5173b0967bd676da126000398f1602898d455dca59b24a07874c2a"
   }
  }
 },
 "nbformat": 4,
 "nbformat_minor": 5
}
