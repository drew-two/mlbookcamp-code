{
 "cells": [
  {
   "cell_type": "markdown",
   "metadata": {},
   "source": [
    "# Week 3 Homework"
   ]
  },
  {
   "cell_type": "code",
   "execution_count": 1,
   "metadata": {},
   "outputs": [],
   "source": [
    "import numpy as np\n",
    "import pandas as pd"
   ]
  },
  {
   "cell_type": "markdown",
   "metadata": {},
   "source": [
    "### Dataset:"
   ]
  },
  {
   "cell_type": "code",
   "execution_count": 2,
   "metadata": {},
   "outputs": [],
   "source": [
    "data = 'https://raw.githubusercontent.com/alexeygrigorev/datasets/master/housing.csv'\n",
    "fname = 'housing.csv'"
   ]
  },
  {
   "cell_type": "code",
   "execution_count": 3,
   "metadata": {},
   "outputs": [],
   "source": [
    "# !wget $data -O $fname"
   ]
  },
  {
   "cell_type": "markdown",
   "metadata": {},
   "source": [
    "### Features:"
   ]
  },
  {
   "cell_type": "code",
   "execution_count": 4,
   "metadata": {},
   "outputs": [],
   "source": [
    "features = [\n",
    "    'latitude',\n",
    "    'longitude',\n",
    "    'housing_median_age',\n",
    "    'total_rooms',\n",
    "    'total_bedrooms',\n",
    "    'population',\n",
    "    'households',\n",
    "    'median_income',\n",
    "    'median_house_value',\n",
    "    'ocean_proximity',\n",
    "]"
   ]
  },
  {
   "cell_type": "markdown",
   "metadata": {},
   "source": [
    "### Data Preparation:"
   ]
  },
  {
   "cell_type": "code",
   "execution_count": 5,
   "metadata": {},
   "outputs": [
    {
     "data": {
      "text/html": [
       "<div>\n",
       "<style scoped>\n",
       "    .dataframe tbody tr th:only-of-type {\n",
       "        vertical-align: middle;\n",
       "    }\n",
       "\n",
       "    .dataframe tbody tr th {\n",
       "        vertical-align: top;\n",
       "    }\n",
       "\n",
       "    .dataframe thead th {\n",
       "        text-align: right;\n",
       "    }\n",
       "</style>\n",
       "<table border=\"1\" class=\"dataframe\">\n",
       "  <thead>\n",
       "    <tr style=\"text-align: right;\">\n",
       "      <th></th>\n",
       "      <th>0</th>\n",
       "      <th>1</th>\n",
       "      <th>2</th>\n",
       "      <th>3</th>\n",
       "      <th>4</th>\n",
       "    </tr>\n",
       "  </thead>\n",
       "  <tbody>\n",
       "    <tr>\n",
       "      <th>latitude</th>\n",
       "      <td>37.88</td>\n",
       "      <td>37.86</td>\n",
       "      <td>37.85</td>\n",
       "      <td>37.85</td>\n",
       "      <td>37.85</td>\n",
       "    </tr>\n",
       "    <tr>\n",
       "      <th>longitude</th>\n",
       "      <td>-122.23</td>\n",
       "      <td>-122.22</td>\n",
       "      <td>-122.24</td>\n",
       "      <td>-122.25</td>\n",
       "      <td>-122.25</td>\n",
       "    </tr>\n",
       "    <tr>\n",
       "      <th>housing_median_age</th>\n",
       "      <td>41.0</td>\n",
       "      <td>21.0</td>\n",
       "      <td>52.0</td>\n",
       "      <td>52.0</td>\n",
       "      <td>52.0</td>\n",
       "    </tr>\n",
       "    <tr>\n",
       "      <th>total_rooms</th>\n",
       "      <td>880.0</td>\n",
       "      <td>7099.0</td>\n",
       "      <td>1467.0</td>\n",
       "      <td>1274.0</td>\n",
       "      <td>1627.0</td>\n",
       "    </tr>\n",
       "    <tr>\n",
       "      <th>total_bedrooms</th>\n",
       "      <td>129.0</td>\n",
       "      <td>1106.0</td>\n",
       "      <td>190.0</td>\n",
       "      <td>235.0</td>\n",
       "      <td>280.0</td>\n",
       "    </tr>\n",
       "    <tr>\n",
       "      <th>population</th>\n",
       "      <td>322.0</td>\n",
       "      <td>2401.0</td>\n",
       "      <td>496.0</td>\n",
       "      <td>558.0</td>\n",
       "      <td>565.0</td>\n",
       "    </tr>\n",
       "    <tr>\n",
       "      <th>households</th>\n",
       "      <td>126.0</td>\n",
       "      <td>1138.0</td>\n",
       "      <td>177.0</td>\n",
       "      <td>219.0</td>\n",
       "      <td>259.0</td>\n",
       "    </tr>\n",
       "    <tr>\n",
       "      <th>median_income</th>\n",
       "      <td>8.3252</td>\n",
       "      <td>8.3014</td>\n",
       "      <td>7.2574</td>\n",
       "      <td>5.6431</td>\n",
       "      <td>3.8462</td>\n",
       "    </tr>\n",
       "    <tr>\n",
       "      <th>median_house_value</th>\n",
       "      <td>452600.0</td>\n",
       "      <td>358500.0</td>\n",
       "      <td>352100.0</td>\n",
       "      <td>341300.0</td>\n",
       "      <td>342200.0</td>\n",
       "    </tr>\n",
       "    <tr>\n",
       "      <th>ocean_proximity</th>\n",
       "      <td>NEAR BAY</td>\n",
       "      <td>NEAR BAY</td>\n",
       "      <td>NEAR BAY</td>\n",
       "      <td>NEAR BAY</td>\n",
       "      <td>NEAR BAY</td>\n",
       "    </tr>\n",
       "  </tbody>\n",
       "</table>\n",
       "</div>"
      ],
      "text/plain": [
       "                           0         1         2         3         4\n",
       "latitude               37.88     37.86     37.85     37.85     37.85\n",
       "longitude            -122.23   -122.22   -122.24   -122.25   -122.25\n",
       "housing_median_age      41.0      21.0      52.0      52.0      52.0\n",
       "total_rooms            880.0    7099.0    1467.0    1274.0    1627.0\n",
       "total_bedrooms         129.0    1106.0     190.0     235.0     280.0\n",
       "population             322.0    2401.0     496.0     558.0     565.0\n",
       "households             126.0    1138.0     177.0     219.0     259.0\n",
       "median_income         8.3252    8.3014    7.2574    5.6431    3.8462\n",
       "median_house_value  452600.0  358500.0  352100.0  341300.0  342200.0\n",
       "ocean_proximity     NEAR BAY  NEAR BAY  NEAR BAY  NEAR BAY  NEAR BAY"
      ]
     },
     "execution_count": 5,
     "metadata": {},
     "output_type": "execute_result"
    }
   ],
   "source": [
    "df = pd.read_csv(fname)\n",
    "df = df[features]\n",
    "df.head().T"
   ]
  },
  {
   "cell_type": "code",
   "execution_count": 6,
   "metadata": {},
   "outputs": [
    {
     "data": {
      "text/plain": [
       "0        near_bay\n",
       "1        near_bay\n",
       "2        near_bay\n",
       "3        near_bay\n",
       "4        near_bay\n",
       "           ...   \n",
       "20635      inland\n",
       "20636      inland\n",
       "20637      inland\n",
       "20638      inland\n",
       "20639      inland\n",
       "Name: ocean_proximity, Length: 20640, dtype: object"
      ]
     },
     "execution_count": 6,
     "metadata": {},
     "output_type": "execute_result"
    }
   ],
   "source": [
    "# For my own sanity\n",
    "df['ocean_proximity'] = df['ocean_proximity'].str.lower().str.replace(' ', '_')\n",
    "df['ocean_proximity']"
   ]
  },
  {
   "cell_type": "markdown",
   "metadata": {},
   "source": [
    "Filling missing value with 0:"
   ]
  },
  {
   "cell_type": "code",
   "execution_count": 7,
   "metadata": {},
   "outputs": [
    {
     "data": {
      "text/plain": [
       "latitude                0\n",
       "longitude               0\n",
       "housing_median_age      0\n",
       "total_rooms             0\n",
       "total_bedrooms        207\n",
       "population              0\n",
       "households              0\n",
       "median_income           0\n",
       "median_house_value      0\n",
       "ocean_proximity         0\n",
       "dtype: int64"
      ]
     },
     "execution_count": 7,
     "metadata": {},
     "output_type": "execute_result"
    }
   ],
   "source": [
    "df.isnull().sum()"
   ]
  },
  {
   "cell_type": "markdown",
   "metadata": {},
   "source": [
    "Only `total_bedrooms` needs it:"
   ]
  },
  {
   "cell_type": "code",
   "execution_count": 8,
   "metadata": {},
   "outputs": [],
   "source": [
    "df.total_bedrooms = df.total_bedrooms.fillna(0)"
   ]
  },
  {
   "cell_type": "code",
   "execution_count": 9,
   "metadata": {},
   "outputs": [],
   "source": [
    "df['rooms_per_household'] = df['total_rooms'] / df['households']\n",
    "df['bedrooms_per_room'] = df['total_bedrooms'] / df['total_rooms']\n",
    "df['population_per_household'] = df['population'] / df['households']"
   ]
  },
  {
   "cell_type": "markdown",
   "metadata": {},
   "source": [
    "### Question 1:"
   ]
  },
  {
   "cell_type": "code",
   "execution_count": 10,
   "metadata": {},
   "outputs": [
    {
     "data": {
      "text/plain": [
       "<1h_ocean     9136\n",
       "inland        6551\n",
       "near_ocean    2658\n",
       "near_bay      2290\n",
       "island           5\n",
       "Name: ocean_proximity, dtype: int64"
      ]
     },
     "execution_count": 10,
     "metadata": {},
     "output_type": "execute_result"
    }
   ],
   "source": [
    "df.ocean_proximity.value_counts()"
   ]
  },
  {
   "cell_type": "markdown",
   "metadata": {},
   "source": [
    "Most frequent observation is **<1H OCEAN**"
   ]
  },
  {
   "cell_type": "markdown",
   "metadata": {},
   "source": [
    "### Question 2:"
   ]
  },
  {
   "cell_type": "code",
   "execution_count": 11,
   "metadata": {},
   "outputs": [
    {
     "data": {
      "text/plain": [
       "0        452600.0\n",
       "1        358500.0\n",
       "2        352100.0\n",
       "3        341300.0\n",
       "4        342200.0\n",
       "           ...   \n",
       "20635     78100.0\n",
       "20636     77100.0\n",
       "20637     92300.0\n",
       "20638     84700.0\n",
       "20639     89400.0\n",
       "Name: median_house_value, Length: 20640, dtype: float64"
      ]
     },
     "execution_count": 11,
     "metadata": {},
     "output_type": "execute_result"
    }
   ],
   "source": [
    "df.median_house_value"
   ]
  },
  {
   "cell_type": "code",
   "execution_count": 12,
   "metadata": {},
   "outputs": [
    {
     "name": "stdout",
     "output_type": "stream",
     "text": [
      "2\n"
     ]
    },
    {
     "data": {
      "text/plain": [
       "0        1\n",
       "1        1\n",
       "2        1\n",
       "3        1\n",
       "4        1\n",
       "        ..\n",
       "20635    0\n",
       "20636    0\n",
       "20637    0\n",
       "20638    0\n",
       "20639    0\n",
       "Name: above_average, Length: 20640, dtype: int64"
      ]
     },
     "execution_count": 12,
     "metadata": {},
     "output_type": "execute_result"
    }
   ],
   "source": [
    "df['above_average'] = (df['median_house_value'] > df['median_house_value'].mean()).astype(int)\n",
    "print(df['above_average'].nunique())\n",
    "df['above_average']"
   ]
  },
  {
   "cell_type": "code",
   "execution_count": 13,
   "metadata": {},
   "outputs": [
    {
     "data": {
      "text/plain": [
       "['latitude',\n",
       " 'longitude',\n",
       " 'housing_median_age',\n",
       " 'total_rooms',\n",
       " 'total_bedrooms',\n",
       " 'population',\n",
       " 'households',\n",
       " 'median_income',\n",
       " 'rooms_per_household',\n",
       " 'bedrooms_per_room',\n",
       " 'population_per_household']"
      ]
     },
     "execution_count": 13,
     "metadata": {},
     "output_type": "execute_result"
    }
   ],
   "source": [
    "# Getting list of numerical values sans target\n",
    "from copy import deepcopy\n",
    "numerical = [\n",
    "    'latitude',\n",
    "    'longitude',\n",
    "    'housing_median_age',\n",
    "    'total_rooms',\n",
    "    'total_bedrooms',\n",
    "    'population',\n",
    "    'households',\n",
    "    'median_income',\n",
    "    'rooms_per_household', \n",
    "    'bedrooms_per_room', \n",
    "    'population_per_household',\n",
    "]\n",
    "numerical"
   ]
  },
  {
   "cell_type": "code",
   "execution_count": 14,
   "metadata": {},
   "outputs": [],
   "source": [
    "from sklearn.model_selection import train_test_split\n",
    "\n",
    "df_full_train, df_test = train_test_split(df, test_size=0.2, random_state=42)\n",
    "df_train, df_val = train_test_split(df_full_train, test_size=0.25, random_state=42)\n",
    "\n",
    "df_train = df_train.reset_index(drop=True)\n",
    "df_val = df_val.reset_index(drop=True)\n",
    "df_test = df_test.reset_index(drop=True)\n",
    "\n",
    "y_train = df_train.above_average.values\n",
    "y_val = df_val.above_average.values\n",
    "y_test = df_test.above_average.values\n",
    "\n",
    "y_train_raw = df_train.median_house_value.values\n",
    "y_val_raw = df_val.median_house_value.values\n",
    "y_test_raw = df_test.median_house_value.values\n",
    "\n",
    "del df_train['median_house_value']\n",
    "del df_val['median_house_value']\n",
    "del df_test['median_house_value']\n",
    "\n",
    "del df_train['above_average']\n",
    "del df_val['above_average']\n",
    "del df_test['above_average']"
   ]
  },
  {
   "cell_type": "code",
   "execution_count": 15,
   "metadata": {},
   "outputs": [
    {
     "data": {
      "text/html": [
       "<div>\n",
       "<style scoped>\n",
       "    .dataframe tbody tr th:only-of-type {\n",
       "        vertical-align: middle;\n",
       "    }\n",
       "\n",
       "    .dataframe tbody tr th {\n",
       "        vertical-align: top;\n",
       "    }\n",
       "\n",
       "    .dataframe thead th {\n",
       "        text-align: right;\n",
       "    }\n",
       "</style>\n",
       "<table border=\"1\" class=\"dataframe\">\n",
       "  <thead>\n",
       "    <tr style=\"text-align: right;\">\n",
       "      <th></th>\n",
       "      <th>latitude</th>\n",
       "      <th>longitude</th>\n",
       "      <th>housing_median_age</th>\n",
       "      <th>total_rooms</th>\n",
       "      <th>total_bedrooms</th>\n",
       "      <th>population</th>\n",
       "      <th>households</th>\n",
       "      <th>median_income</th>\n",
       "      <th>rooms_per_household</th>\n",
       "      <th>bedrooms_per_room</th>\n",
       "      <th>population_per_household</th>\n",
       "    </tr>\n",
       "  </thead>\n",
       "  <tbody>\n",
       "    <tr>\n",
       "      <th>latitude</th>\n",
       "      <td>1.000000</td>\n",
       "      <td>-0.925005</td>\n",
       "      <td>0.002477</td>\n",
       "      <td>-0.025914</td>\n",
       "      <td>-0.059730</td>\n",
       "      <td>-0.100272</td>\n",
       "      <td>-0.063529</td>\n",
       "      <td>-0.076805</td>\n",
       "      <td>0.119118</td>\n",
       "      <td>-0.124507</td>\n",
       "      <td>-0.002301</td>\n",
       "    </tr>\n",
       "    <tr>\n",
       "      <th>longitude</th>\n",
       "      <td>-0.925005</td>\n",
       "      <td>1.000000</td>\n",
       "      <td>-0.099812</td>\n",
       "      <td>0.036449</td>\n",
       "      <td>0.063840</td>\n",
       "      <td>0.091670</td>\n",
       "      <td>0.049762</td>\n",
       "      <td>-0.016426</td>\n",
       "      <td>-0.034814</td>\n",
       "      <td>0.102320</td>\n",
       "      <td>0.011022</td>\n",
       "    </tr>\n",
       "    <tr>\n",
       "      <th>housing_median_age</th>\n",
       "      <td>0.002477</td>\n",
       "      <td>-0.099812</td>\n",
       "      <td>1.000000</td>\n",
       "      <td>-0.363522</td>\n",
       "      <td>-0.324156</td>\n",
       "      <td>-0.292476</td>\n",
       "      <td>-0.306119</td>\n",
       "      <td>-0.119591</td>\n",
       "      <td>-0.181275</td>\n",
       "      <td>0.129456</td>\n",
       "      <td>0.012167</td>\n",
       "    </tr>\n",
       "    <tr>\n",
       "      <th>total_rooms</th>\n",
       "      <td>-0.025914</td>\n",
       "      <td>0.036449</td>\n",
       "      <td>-0.363522</td>\n",
       "      <td>1.000000</td>\n",
       "      <td>0.931546</td>\n",
       "      <td>0.853219</td>\n",
       "      <td>0.921441</td>\n",
       "      <td>0.198951</td>\n",
       "      <td>0.168926</td>\n",
       "      <td>-0.194185</td>\n",
       "      <td>-0.029452</td>\n",
       "    </tr>\n",
       "    <tr>\n",
       "      <th>total_bedrooms</th>\n",
       "      <td>-0.059730</td>\n",
       "      <td>0.063840</td>\n",
       "      <td>-0.324156</td>\n",
       "      <td>0.931546</td>\n",
       "      <td>1.000000</td>\n",
       "      <td>0.877340</td>\n",
       "      <td>0.979399</td>\n",
       "      <td>-0.009833</td>\n",
       "      <td>0.010381</td>\n",
       "      <td>0.078094</td>\n",
       "      <td>-0.034301</td>\n",
       "    </tr>\n",
       "    <tr>\n",
       "      <th>population</th>\n",
       "      <td>-0.100272</td>\n",
       "      <td>0.091670</td>\n",
       "      <td>-0.292476</td>\n",
       "      <td>0.853219</td>\n",
       "      <td>0.877340</td>\n",
       "      <td>1.000000</td>\n",
       "      <td>0.906841</td>\n",
       "      <td>-0.000849</td>\n",
       "      <td>-0.076210</td>\n",
       "      <td>0.031592</td>\n",
       "      <td>0.064998</td>\n",
       "    </tr>\n",
       "    <tr>\n",
       "      <th>households</th>\n",
       "      <td>-0.063529</td>\n",
       "      <td>0.049762</td>\n",
       "      <td>-0.306119</td>\n",
       "      <td>0.921441</td>\n",
       "      <td>0.979399</td>\n",
       "      <td>0.906841</td>\n",
       "      <td>1.000000</td>\n",
       "      <td>0.011925</td>\n",
       "      <td>-0.085832</td>\n",
       "      <td>0.058004</td>\n",
       "      <td>-0.032522</td>\n",
       "    </tr>\n",
       "    <tr>\n",
       "      <th>median_income</th>\n",
       "      <td>-0.076805</td>\n",
       "      <td>-0.016426</td>\n",
       "      <td>-0.119591</td>\n",
       "      <td>0.198951</td>\n",
       "      <td>-0.009833</td>\n",
       "      <td>-0.000849</td>\n",
       "      <td>0.011925</td>\n",
       "      <td>1.000000</td>\n",
       "      <td>0.394154</td>\n",
       "      <td>-0.616617</td>\n",
       "      <td>-0.000454</td>\n",
       "    </tr>\n",
       "    <tr>\n",
       "      <th>rooms_per_household</th>\n",
       "      <td>0.119118</td>\n",
       "      <td>-0.034814</td>\n",
       "      <td>-0.181275</td>\n",
       "      <td>0.168926</td>\n",
       "      <td>0.010381</td>\n",
       "      <td>-0.076210</td>\n",
       "      <td>-0.085832</td>\n",
       "      <td>0.394154</td>\n",
       "      <td>1.000000</td>\n",
       "      <td>-0.500589</td>\n",
       "      <td>0.001801</td>\n",
       "    </tr>\n",
       "    <tr>\n",
       "      <th>bedrooms_per_room</th>\n",
       "      <td>-0.124507</td>\n",
       "      <td>0.102320</td>\n",
       "      <td>0.129456</td>\n",
       "      <td>-0.194185</td>\n",
       "      <td>0.078094</td>\n",
       "      <td>0.031592</td>\n",
       "      <td>0.058004</td>\n",
       "      <td>-0.616617</td>\n",
       "      <td>-0.500589</td>\n",
       "      <td>1.000000</td>\n",
       "      <td>-0.002851</td>\n",
       "    </tr>\n",
       "    <tr>\n",
       "      <th>population_per_household</th>\n",
       "      <td>-0.002301</td>\n",
       "      <td>0.011022</td>\n",
       "      <td>0.012167</td>\n",
       "      <td>-0.029452</td>\n",
       "      <td>-0.034301</td>\n",
       "      <td>0.064998</td>\n",
       "      <td>-0.032522</td>\n",
       "      <td>-0.000454</td>\n",
       "      <td>0.001801</td>\n",
       "      <td>-0.002851</td>\n",
       "      <td>1.000000</td>\n",
       "    </tr>\n",
       "  </tbody>\n",
       "</table>\n",
       "</div>"
      ],
      "text/plain": [
       "                          latitude  longitude  housing_median_age  \\\n",
       "latitude                  1.000000  -0.925005            0.002477   \n",
       "longitude                -0.925005   1.000000           -0.099812   \n",
       "housing_median_age        0.002477  -0.099812            1.000000   \n",
       "total_rooms              -0.025914   0.036449           -0.363522   \n",
       "total_bedrooms           -0.059730   0.063840           -0.324156   \n",
       "population               -0.100272   0.091670           -0.292476   \n",
       "households               -0.063529   0.049762           -0.306119   \n",
       "median_income            -0.076805  -0.016426           -0.119591   \n",
       "rooms_per_household       0.119118  -0.034814           -0.181275   \n",
       "bedrooms_per_room        -0.124507   0.102320            0.129456   \n",
       "population_per_household -0.002301   0.011022            0.012167   \n",
       "\n",
       "                          total_rooms  total_bedrooms  population  households  \\\n",
       "latitude                    -0.025914       -0.059730   -0.100272   -0.063529   \n",
       "longitude                    0.036449        0.063840    0.091670    0.049762   \n",
       "housing_median_age          -0.363522       -0.324156   -0.292476   -0.306119   \n",
       "total_rooms                  1.000000        0.931546    0.853219    0.921441   \n",
       "total_bedrooms               0.931546        1.000000    0.877340    0.979399   \n",
       "population                   0.853219        0.877340    1.000000    0.906841   \n",
       "households                   0.921441        0.979399    0.906841    1.000000   \n",
       "median_income                0.198951       -0.009833   -0.000849    0.011925   \n",
       "rooms_per_household          0.168926        0.010381   -0.076210   -0.085832   \n",
       "bedrooms_per_room           -0.194185        0.078094    0.031592    0.058004   \n",
       "population_per_household    -0.029452       -0.034301    0.064998   -0.032522   \n",
       "\n",
       "                          median_income  rooms_per_household  \\\n",
       "latitude                      -0.076805             0.119118   \n",
       "longitude                     -0.016426            -0.034814   \n",
       "housing_median_age            -0.119591            -0.181275   \n",
       "total_rooms                    0.198951             0.168926   \n",
       "total_bedrooms                -0.009833             0.010381   \n",
       "population                    -0.000849            -0.076210   \n",
       "households                     0.011925            -0.085832   \n",
       "median_income                  1.000000             0.394154   \n",
       "rooms_per_household            0.394154             1.000000   \n",
       "bedrooms_per_room             -0.616617            -0.500589   \n",
       "population_per_household      -0.000454             0.001801   \n",
       "\n",
       "                          bedrooms_per_room  population_per_household  \n",
       "latitude                          -0.124507                 -0.002301  \n",
       "longitude                          0.102320                  0.011022  \n",
       "housing_median_age                 0.129456                  0.012167  \n",
       "total_rooms                       -0.194185                 -0.029452  \n",
       "total_bedrooms                     0.078094                 -0.034301  \n",
       "population                         0.031592                  0.064998  \n",
       "households                         0.058004                 -0.032522  \n",
       "median_income                     -0.616617                 -0.000454  \n",
       "rooms_per_household               -0.500589                  0.001801  \n",
       "bedrooms_per_room                  1.000000                 -0.002851  \n",
       "population_per_household          -0.002851                  1.000000  "
      ]
     },
     "execution_count": 15,
     "metadata": {},
     "output_type": "execute_result"
    }
   ],
   "source": [
    "df_train[numerical].corr()"
   ]
  },
  {
   "cell_type": "markdown",
   "metadata": {},
   "source": [
    "Ans:\n",
    "* **`total_bedrooms` and `households`: 0.979399**\n",
    "* `total_bedrooms` and `total_rooms`: 0.931546\n",
    "* `population` and `households`: 0.906841\n",
    "* `population_per_household` and `total_rooms`: -0.029452\n",
    "\n",
    "Answer is **`total_bedrooms` and `households`**"
   ]
  },
  {
   "cell_type": "markdown",
   "metadata": {},
   "source": [
    "### Question 3:"
   ]
  },
  {
   "cell_type": "code",
   "execution_count": 16,
   "metadata": {},
   "outputs": [
    {
     "data": {
      "text/plain": [
       "0.10138385763624205"
      ]
     },
     "execution_count": 16,
     "metadata": {},
     "output_type": "execute_result"
    }
   ],
   "source": [
    "from sklearn.metrics import mutual_info_score\n",
    "\n",
    "categorical = ['ocean_proximity']\n",
    "\n",
    "mutual_info_score(df_train[categorical[0]], y_train)"
   ]
  },
  {
   "cell_type": "markdown",
   "metadata": {},
   "source": [
    "Ans:\n",
    "- 0.26\n",
    "- 0\n",
    "- **0.10**\n",
    "- 0.16\n",
    "\n",
    "Answer is 0.10"
   ]
  },
  {
   "cell_type": "markdown",
   "metadata": {},
   "source": [
    "### Question 4:"
   ]
  },
  {
   "cell_type": "code",
   "execution_count": 17,
   "metadata": {},
   "outputs": [],
   "source": [
    "from sklearn.feature_extraction import DictVectorizer\n",
    "dv = DictVectorizer(sparse=False)\n",
    "\n",
    "# dict vectorizer handles one-hot encoding of ocean_proximity\n",
    "train_dict = df_train[categorical + numerical].to_dict(orient='records')\n",
    "X_train = dv.fit_transform(train_dict)\n",
    "\n",
    "val_dict = df_val[categorical + numerical].to_dict(orient='records')\n",
    "X_val = dv.transform(val_dict)"
   ]
  },
  {
   "cell_type": "code",
   "execution_count": 18,
   "metadata": {},
   "outputs": [
    {
     "data": {
      "text/plain": [
       "array(['bedrooms_per_room', 'households', 'housing_median_age',\n",
       "       'latitude', 'longitude', 'median_income',\n",
       "       'ocean_proximity=<1h_ocean', 'ocean_proximity=inland',\n",
       "       'ocean_proximity=island', 'ocean_proximity=near_bay',\n",
       "       'ocean_proximity=near_ocean', 'population',\n",
       "       'population_per_household', 'rooms_per_household',\n",
       "       'total_bedrooms', 'total_rooms'], dtype=object)"
      ]
     },
     "execution_count": 18,
     "metadata": {},
     "output_type": "execute_result"
    }
   ],
   "source": [
    "# Checking that ocean_proximity was handled\n",
    "dv.get_feature_names_out()"
   ]
  },
  {
   "cell_type": "code",
   "execution_count": 19,
   "metadata": {},
   "outputs": [
    {
     "data": {
      "text/plain": [
       "LogisticRegression(max_iter=1000, random_state=42, solver='liblinear')"
      ]
     },
     "execution_count": 19,
     "metadata": {},
     "output_type": "execute_result"
    }
   ],
   "source": [
    "from sklearn.linear_model import LogisticRegression\n",
    "\n",
    "model = LogisticRegression(solver=\"liblinear\", C=1.0, max_iter=1000, random_state=42)\n",
    "model.fit(X_train, y_train) "
   ]
  },
  {
   "cell_type": "code",
   "execution_count": 20,
   "metadata": {},
   "outputs": [
    {
     "data": {
      "text/plain": [
       "array([0, 0, 1, ..., 1, 1, 0])"
      ]
     },
     "execution_count": 20,
     "metadata": {},
     "output_type": "execute_result"
    }
   ],
   "source": [
    "# Accuracy:\n",
    "y_pred = model.predict_proba(X_val)[:, 1]\n",
    "\n",
    "house_decision = (y_pred >= 0.5).astype(int)\n",
    "house_decision"
   ]
  },
  {
   "cell_type": "code",
   "execution_count": 21,
   "metadata": {},
   "outputs": [
    {
     "data": {
      "text/plain": [
       "0.84"
      ]
     },
     "execution_count": 21,
     "metadata": {},
     "output_type": "execute_result"
    }
   ],
   "source": [
    "acc = (y_val == house_decision).mean()\n",
    "round(acc, 2)"
   ]
  },
  {
   "cell_type": "markdown",
   "metadata": {},
   "source": [
    "Ans:\n",
    "- 0.60\n",
    "- 0.72\n",
    "- **0.84**\n",
    "- 0.95\n",
    "\n",
    "Ans is : 0.84"
   ]
  },
  {
   "cell_type": "markdown",
   "metadata": {},
   "source": [
    "### Question 5:"
   ]
  },
  {
   "cell_type": "code",
   "execution_count": 22,
   "metadata": {},
   "outputs": [],
   "source": [
    "features = [\n",
    "    'latitude',\n",
    "    'longitude',\n",
    "    'housing_median_age',\n",
    "    'total_rooms',\n",
    "    'total_bedrooms',\n",
    "    'population',\n",
    "    'households',\n",
    "    'median_income',\n",
    "    'rooms_per_household', \n",
    "    'bedrooms_per_room', \n",
    "    'population_per_household',\n",
    "    'ocean_proximity',\n",
    "]"
   ]
  },
  {
   "cell_type": "code",
   "execution_count": 23,
   "metadata": {},
   "outputs": [
    {
     "name": "stdout",
     "output_type": "stream",
     "text": [
      "Feature removed: latitude, accuracy difference: 0.00169574\n",
      "Feature removed: longitude, accuracy difference: 0.00460271\n",
      "Feature removed: housing_median_age, accuracy difference: 0.00460271\n",
      "Feature removed: total_rooms, accuracy difference: -0.00290698\n",
      "Feature removed: total_bedrooms, accuracy difference: -0.00218023\n",
      "Feature removed: population, accuracy difference: 0.00920543\n",
      "Feature removed: households, accuracy difference: 0.00218023\n",
      "Feature removed: median_income, accuracy difference: 0.0499031\n",
      "Feature removed: rooms_per_household, accuracy difference: 0.00121124\n",
      "Feature removed: bedrooms_per_room, accuracy difference: 0.0\n",
      "Feature removed: population_per_household, accuracy difference: 0.0\n",
      "Feature removed: ocean_proximity, accuracy difference: 0.01453488\n"
     ]
    }
   ],
   "source": [
    "acc_dict = {}\n",
    "for feature in features:\n",
    "    feature_elim = features[:]\n",
    "    feature_elim.remove(feature)\n",
    "\n",
    "    dv = DictVectorizer(sparse=False)\n",
    "\n",
    "    train_dict = df_train[feature_elim].to_dict(orient='records')\n",
    "    X_train = dv.fit_transform(train_dict)\n",
    "\n",
    "    val_dict = df_val[feature_elim].to_dict(orient='records')\n",
    "    X_val = dv.transform(val_dict)\n",
    "\n",
    "    model = LogisticRegression(solver=\"liblinear\", C=1.0, max_iter=1000, random_state=42)\n",
    "    model.fit(X_train, y_train) \n",
    "\n",
    "    y_pred = model.predict_proba(X_val)[:, 1]\n",
    "    house_decision = (y_pred >= 0.5).astype(int)\n",
    "    elim_acc = (y_val == house_decision).mean()\n",
    "\n",
    "    acc_dict[feature] = abs(acc - elim_acc)\n",
    "\n",
    "    print(f\"Feature removed: {feature}, accuracy difference: {round(acc - elim_acc, 8)}\")"
   ]
  },
  {
   "cell_type": "code",
   "execution_count": 24,
   "metadata": {},
   "outputs": [
    {
     "data": {
      "text/plain": [
       "[('bedrooms_per_room', 0.0),\n",
       " ('population_per_household', 0.0),\n",
       " ('rooms_per_household', 0.001211240310077466),\n",
       " ('latitude', 0.0016957364341084746),\n",
       " ('households', 0.0021802325581394832),\n",
       " ('total_bedrooms', 0.0021802325581395943),\n",
       " ('total_rooms', 0.0029069767441860517),\n",
       " ('longitude', 0.004602713178294526),\n",
       " ('housing_median_age', 0.004602713178294526),\n",
       " ('population', 0.009205426356589164),\n",
       " ('ocean_proximity', 0.014534883720930258),\n",
       " ('median_income', 0.049903100775193776)]"
      ]
     },
     "execution_count": 24,
     "metadata": {},
     "output_type": "execute_result"
    }
   ],
   "source": [
    "import collections\n",
    "\n",
    "sorted(acc_dict.items(), key=lambda item: item[1], reverse=False) # Sorts ascending"
   ]
  },
  {
   "cell_type": "markdown",
   "metadata": {},
   "source": [
    "Ans:\n",
    "   * `total_rooms`\n",
    "   * `total_bedrooms` \n",
    "   * `population`\n",
    "   * **`households`**\n",
    "\n",
    "Ans is **`households`**"
   ]
  },
  {
   "cell_type": "markdown",
   "metadata": {},
   "source": [
    "### Question 6:"
   ]
  },
  {
   "cell_type": "code",
   "execution_count": 33,
   "metadata": {},
   "outputs": [
    {
     "data": {
      "text/plain": [
       "array([11.47937902, 11.23190118, 12.97363364, ..., 12.74898107,\n",
       "       12.8682476 , 12.12378283])"
      ]
     },
     "execution_count": 33,
     "metadata": {},
     "output_type": "execute_result"
    }
   ],
   "source": [
    "from sklearn.linear_model import Ridge\n",
    "from sklearn.metrics import mean_squared_error\n",
    "\n",
    "y_val_raw"
   ]
  },
  {
   "cell_type": "code",
   "execution_count": 34,
   "metadata": {},
   "outputs": [],
   "source": [
    "y_train_raw = np.log1p(y_train_raw)\n",
    "y_val_raw = np.log1p(y_val_raw)"
   ]
  },
  {
   "cell_type": "code",
   "execution_count": 35,
   "metadata": {},
   "outputs": [],
   "source": [
    "dv = DictVectorizer(sparse=False)\n",
    "\n",
    "# dict vectorizer handles one-hot encoding of ocean_proximity\n",
    "train_dict = df_train[feature_elim].to_dict(orient='records')\n",
    "X_train = dv.fit_transform(train_dict)\n",
    "\n",
    "val_dict = df_val[feature_elim].to_dict(orient='records')\n",
    "X_val = dv.transform(val_dict)"
   ]
  },
  {
   "cell_type": "code",
   "execution_count": 36,
   "metadata": {},
   "outputs": [],
   "source": [
    "accuracies = {}\n",
    "alphas = [0, 0.01, 0.1, 1, 10]\n",
    "for a in alphas:\n",
    "    model = Ridge(alpha=a, solver=\"sag\", random_state=42)\n",
    "    model.fit(X_train, y_train_raw)\n",
    "\n",
    "    y_pred = model.predict(X_val)\n",
    "    rmse = mean_squared_error(y_val_raw, y_pred)\n",
    "\n",
    "    accuracies[a] = rmse"
   ]
  },
  {
   "cell_type": "code",
   "execution_count": 40,
   "metadata": {},
   "outputs": [
    {
     "name": "stdout",
     "output_type": "stream",
     "text": [
      "alpha: 10, rmse: 0.002\n",
      "alpha: 1, rmse: 0.002\n",
      "alpha: 0.1, rmse: 0.002\n",
      "alpha: 0.01, rmse: 0.002\n",
      "alpha: 0, rmse: 0.002\n"
     ]
    }
   ],
   "source": [
    "for key, value in sorted(accuracies.items(), key=lambda item: item[1], reverse=True): # Sorts descending\n",
    "    print(f\"alpha: {key}, rmse: {round(value, 3)}\")"
   ]
  },
  {
   "cell_type": "markdown",
   "metadata": {},
   "source": [
    "RMSE does not differ significantly for each alpha. Going with lowest alpha of those listed.\n",
    "\n",
    "Ans: **0**"
   ]
  }
 ],
 "metadata": {
  "kernelspec": {
   "display_name": "Python 3.9.12 ('exp-tracking-env')",
   "language": "python",
   "name": "python3"
  },
  "language_info": {
   "codemirror_mode": {
    "name": "ipython",
    "version": 3
   },
   "file_extension": ".py",
   "mimetype": "text/x-python",
   "name": "python",
   "nbconvert_exporter": "python",
   "pygments_lexer": "ipython3",
   "version": "3.9.12"
  },
  "orig_nbformat": 4,
  "vscode": {
   "interpreter": {
    "hash": "5380a5719b5173b0967bd676da126000398f1602898d455dca59b24a07874c2a"
   }
  }
 },
 "nbformat": 4,
 "nbformat_minor": 2
}
